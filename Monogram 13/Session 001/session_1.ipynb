{
  "nbformat": 4,
  "nbformat_minor": 0,
  "metadata": {
    "colab": {
      "provenance": []
    },
    "kernelspec": {
      "name": "python3",
      "display_name": "Python 3"
    },
    "language_info": {
      "name": "python"
    }
  },
  "cells": [
    {
      "cell_type": "markdown",
      "source": [
        "# 1. `print()` Function\n",
        "\n",
        "The `print()` function is used to display information on the screen. It outputs data that you specify within the parentheses. You can use `print()` to show text, numbers, or the results of operations.\n",
        "\n",
        "print(value1, value2, ..., sep=' ', end='\\n')\n",
        "\n",
        "\n",
        "- **value1, value2, ...**: Values you want to print. These can be strings, numbers, or variables.\n",
        "- **sep**: Defines the separator between multiple values (default is a space).\n",
        "- **end**: Defines what happens at the end of the print statement (default is a newline `\\n`).\n"
      ],
      "metadata": {
        "id": "xLFj_CeKS2q5"
      }
    },
    {
      "cell_type": "code",
      "execution_count": null,
      "metadata": {
        "colab": {
          "base_uri": "https://localhost:8080/"
        },
        "id": "hFAm66k3SRwF",
        "outputId": "46214bed-3df5-484a-b911-58fbcb21df5f"
      },
      "outputs": [
        {
          "output_type": "stream",
          "name": "stdout",
          "text": [
            "Hello, World!\n"
          ]
        }
      ],
      "source": [
        "print(\"Hello, World!\")"
      ]
    },
    {
      "cell_type": "code",
      "source": [
        "# You can print multiple values by separating them with commas:\n",
        "print(\"The sum of 2 and 3 is\", 2 + 3)"
      ],
      "metadata": {
        "colab": {
          "base_uri": "https://localhost:8080/"
        },
        "id": "uOyEHRVLbXXO",
        "outputId": "e03b1e05-c9c7-4866-a078-8fc14219af8b"
      },
      "execution_count": null,
      "outputs": [
        {
          "output_type": "stream",
          "name": "stdout",
          "text": [
            "The sum of 2 and 3 is 5\n"
          ]
        }
      ]
    },
    {
      "cell_type": "code",
      "source": [
        "# Using custom sep and end parameters:\n",
        "print(\"Apple\", \"Banana\", \"Cherry\", sep=\"* \", end=\"!\")"
      ],
      "metadata": {
        "colab": {
          "base_uri": "https://localhost:8080/"
        },
        "id": "I_SOc_-7bbQY",
        "outputId": "c1d26697-27b0-4c0e-c7f1-280348ddfe54"
      },
      "execution_count": null,
      "outputs": [
        {
          "output_type": "stream",
          "name": "stdout",
          "text": [
            "Apple* Banana* Cherry!"
          ]
        }
      ]
    },
    {
      "cell_type": "markdown",
      "source": [
        "# 2. Python Variables and Data Types\n",
        "\n",
        "## 2.1 What are Variables?\n",
        "\n",
        "In Python, a variable is a named location used to store data in memory. Variables allow you to reference data throughout your program by name rather than using the actual value.\n",
        "\n",
        "variable_name = value\n",
        "\n",
        "- **variable_name**: A unique identifier for the variable (should start with a letter or underscore).\n",
        "- **value**: The data you want to store in the variable.\n"
      ],
      "metadata": {
        "id": "HIklY300dbA3"
      }
    },
    {
      "cell_type": "code",
      "source": [
        "x = 5               # An integer variable\n",
        "name = \"Alice\"     # A string variable\n",
        "is_student = True   # A boolean variable"
      ],
      "metadata": {
        "id": "Mx4mUUo6d910"
      },
      "execution_count": null,
      "outputs": []
    },
    {
      "cell_type": "code",
      "source": [
        "print(name)"
      ],
      "metadata": {
        "colab": {
          "base_uri": "https://localhost:8080/"
        },
        "id": "aSSTfgfKeHlm",
        "outputId": "bbbae44d-14d8-47d9-8303-ecda3528f66d"
      },
      "execution_count": null,
      "outputs": [
        {
          "output_type": "stream",
          "name": "stdout",
          "text": [
            "Alice\n"
          ]
        }
      ]
    },
    {
      "cell_type": "markdown",
      "source": [
        "## 2.2 Common Data Types\n",
        "\n",
        "Python has several built-in data types that you can use to define the kind of data stored in a variable:\n",
        "\n",
        "- **Integers**: Whole numbers, e.g., 5, -3, 42\n",
        "- **Floats**: Decimal numbers, e.g., 3.14, -0.001, 2.0\n",
        "- **Strings**: Sequence of characters, enclosed in single or double quotes, e.g., \"Hello\", 'World'\n",
        "- **Booleans**: Represents `True` or `False`"
      ],
      "metadata": {
        "id": "XFtrD4tfeT4C"
      }
    },
    {
      "cell_type": "code",
      "source": [
        "# Integer\n",
        "age = 25\n",
        "\n",
        "# Float\n",
        "height = 5.9\n",
        "\n",
        "# String\n",
        "greeting = \"Hello, World!\"\n",
        "\n",
        "# Boolean\n",
        "is_valid = False"
      ],
      "metadata": {
        "id": "4hRfMYlteeU6"
      },
      "execution_count": null,
      "outputs": []
    },
    {
      "cell_type": "markdown",
      "source": [
        "## 2.3 Typecasting\n",
        "\n",
        "Typecasting is the process of converting a variable from one data type to another. This is often necessary when performing operations that require specific data types.\n",
        "\n",
        "### Common Typecasting Functions:\n",
        "- **int()**: Converts a value to an integer.\n",
        "- **float()**: Converts a value to a float.\n",
        "- **str()**: Converts a value to a string.\n"
      ],
      "metadata": {
        "id": "v0TnW03aeluN"
      }
    },
    {
      "cell_type": "code",
      "source": [
        "# Typecasting a float to an integer\n",
        "number = 3.14\n",
        "integer_number = int(number)  # Result: 3\n",
        "print(type(integer_number))\n",
        "\n",
        "# Typecasting an integer to a float\n",
        "integer_value = 10\n",
        "float_value = float(integer_value)  # Result: 10.0\n",
        "\n",
        "# Typecasting an integer to a string\n",
        "age = 30\n",
        "age_string = str(age)  # Result: \"30\""
      ],
      "metadata": {
        "id": "DpFIWeO2ewIi"
      },
      "execution_count": null,
      "outputs": []
    },
    {
      "cell_type": "markdown",
      "source": [
        "# 3. Python Basic Operations: Arithmetic and String Operations\n",
        "\n",
        "## 3.1 Arithmetic Operations for Numbers\n",
        "\n",
        "Arithmetic operations are used to perform calculations on numeric data types (integers and floats). Python supports several arithmetic operators:\n",
        "\n",
        "### Arithmetic Operators:\n",
        "- **Addition (+)**: Adds two numbers.\n",
        "- **Subtraction (-)**: Subtracts one number from another.\n",
        "- **Multiplication (*)**: Multiplies two numbers.\n",
        "- **Division (/)**: Divides one number by another (always returns a float).\n",
        "- **Floor Division (//)**: Divides one number by another and returns the largest integer less than or equal to the result.\n",
        "- **Modulus (%)**: Returns the remainder of the division of one number by another.\n",
        "- **Exponentiation (**)**: Raises one number to the power of another."
      ],
      "metadata": {
        "id": "tmbXQWqrh9XW"
      }
    },
    {
      "cell_type": "code",
      "source": [
        "x = 10\n",
        "y = 3\n",
        "\n",
        "# Addition\n",
        "print(\"Addition:\", x + y)\n",
        "\n",
        "# Subtraction\n",
        "print(\"Subtraction:\", x - y)\n",
        "\n",
        "# Multiplication\n",
        "print(\"Multiplication:\", x * y)\n",
        "\n",
        "# Division\n",
        "print(\"Division:\", x / y)\n",
        "\n",
        "# Floor Division\n",
        "print(\"Floor Division:\", x // y)\n",
        "\n",
        "# Exponentiation\n",
        "print(\"Exponentiation:\", x ** y)\n",
        "\n",
        "# Modulus\n",
        "print(\"Modulus:\", x % y)\n"
      ],
      "metadata": {
        "colab": {
          "base_uri": "https://localhost:8080/"
        },
        "id": "qRNJV469iMy_",
        "outputId": "6f8a7a01-c1ed-4b75-f1dc-b331baa962b9"
      },
      "execution_count": null,
      "outputs": [
        {
          "output_type": "stream",
          "name": "stdout",
          "text": [
            "Addition: 13\n",
            "Subtraction: 7\n",
            "Multiplication: 30\n",
            "Division: 3.3333333333333335\n",
            "Floor Division: 3\n",
            "Exponentiation: 1000\n",
            "Modulus: 1\n"
          ]
        }
      ]
    },
    {
      "cell_type": "markdown",
      "source": [
        "### Using f-Strings with `print()`\n",
        "\n",
        "In Python, f-strings (formatted string literals) provide a way to embed expressions inside string literals, using curly braces `{}`. This allows for more readable and concise string formatting compared to older methods.\n",
        "\n",
        "#### Syntax:\n",
        "print(f'{expression}')\n",
        "\n",
        "f: The letter f before the opening quotation mark indicates that the string is an f-string.\n",
        "{expression}: Inside the curly braces, you can place any valid Python expression, variable, or function call, which will be evaluated at runtime and formatted into the string."
      ],
      "metadata": {
        "id": "awUFkiuSEkOU"
      }
    },
    {
      "cell_type": "code",
      "source": [
        "name = \"Alice\"\n",
        "age = 30\n",
        "print(f'Name: {name}, Age: {age}')\n"
      ],
      "metadata": {
        "colab": {
          "base_uri": "https://localhost:8080/",
          "height": 0
        },
        "id": "FYZo2yp1Ejrc",
        "outputId": "f4a87a59-c8fc-4f15-d201-3d6ce8c2b7a1"
      },
      "execution_count": 4,
      "outputs": [
        {
          "output_type": "stream",
          "name": "stdout",
          "text": [
            "Name: Alice, Age: 30\n"
          ]
        }
      ]
    },
    {
      "cell_type": "markdown",
      "source": [
        "## 3.2 String Operations\n",
        "\n",
        "Strings in Python can also be manipulated using various operators. The most common operation is concatenation, which combines two or more strings.\n",
        "\n",
        "### String Operators:\n",
        "- **Concatenation (+)**: Combines two strings into one.\n",
        "- **Repetition (*)**: Repeats a string a specified number of times.\n"
      ],
      "metadata": {
        "id": "eHjqzy7UjBIr"
      }
    },
    {
      "cell_type": "code",
      "source": [
        "# Concatenation\n",
        "greeting = \"Hello, \" + \"World!\"\n",
        "print(greeting)  # Output: Hello, World!\n",
        "\n",
        "# Repetition\n",
        "repeated_string = \"Python! \" * 3\n",
        "print(repeated_string)  # Output: Python! Python! Python!"
      ],
      "metadata": {
        "colab": {
          "base_uri": "https://localhost:8080/"
        },
        "id": "r470PH8MjCoT",
        "outputId": "fdae9fe0-573d-4eb0-9654-9cf05543701d"
      },
      "execution_count": null,
      "outputs": [
        {
          "output_type": "stream",
          "name": "stdout",
          "text": [
            "Hello, World!\n",
            "Python! Python! Python! \n"
          ]
        }
      ]
    },
    {
      "cell_type": "code",
      "source": [
        "# Using arithmetic with strings\n",
        "age = 27\n",
        "message = \"I am \" + str(age) + \" years old.\"\n",
        "print(message)  # Output: I am 25 years old."
      ],
      "metadata": {
        "colab": {
          "base_uri": "https://localhost:8080/"
        },
        "id": "07ME61a4kVeu",
        "outputId": "4c095ade-3e60-4c5d-acfd-5fab903271f4"
      },
      "execution_count": null,
      "outputs": [
        {
          "output_type": "stream",
          "name": "stdout",
          "text": [
            "I am 25 years old.\n"
          ]
        }
      ]
    },
    {
      "cell_type": "markdown",
      "source": [
        "# 4. `input()` Function\n",
        "\n",
        "The `input()` function is used to take input from the user. It prompts the user to enter some data, which is then returned as a string.\n",
        "\n",
        "\n",
        "- **prompt**: A string that is displayed to the user, asking for input (optional).\n"
      ],
      "metadata": {
        "id": "TbNZc9lSbscf"
      }
    },
    {
      "cell_type": "code",
      "source": [
        "input(\"Enter your name: \")"
      ],
      "metadata": {
        "colab": {
          "base_uri": "https://localhost:8080/",
          "height": 54
        },
        "id": "Qkyzk6ZOb1Fz",
        "outputId": "1cf4679c-17a9-4ab8-fab7-0620a3b69531"
      },
      "execution_count": null,
      "outputs": [
        {
          "name": "stdout",
          "output_type": "stream",
          "text": [
            "Enter your name: Milad\n"
          ]
        },
        {
          "output_type": "execute_result",
          "data": {
            "text/plain": [
              "'Milad'"
            ],
            "application/vnd.google.colaboratory.intrinsic+json": {
              "type": "string"
            }
          },
          "metadata": {},
          "execution_count": 5
        }
      ]
    },
    {
      "cell_type": "code",
      "source": [
        "name = input(\"Enter your name: \")\n",
        "print(\"Hello,\", name)"
      ],
      "metadata": {
        "colab": {
          "base_uri": "https://localhost:8080/"
        },
        "id": "BQzmEa72cOFj",
        "outputId": "6dbe47b1-8840-4482-88e4-55edc8d1724e"
      },
      "execution_count": null,
      "outputs": [
        {
          "output_type": "stream",
          "name": "stdout",
          "text": [
            "Enter your name: Milad\n",
            "Hello, Milad\n"
          ]
        }
      ]
    },
    {
      "cell_type": "code",
      "source": [
        "# Combining typecasting with input\n",
        "user_input = input(\"Enter your age: \")\n",
        "print('user_input is: ', type(user_input))\n",
        "age_as_int = int(user_input)  # Convert the string input to an integer\n",
        "print('age_as_int is: ', type(age_as_int))\n"
      ],
      "metadata": {
        "colab": {
          "base_uri": "https://localhost:8080/"
        },
        "id": "qdnVAMc8e6OL",
        "outputId": "089e98af-f9cd-438b-bf3b-b43d16e7f26a"
      },
      "execution_count": null,
      "outputs": [
        {
          "output_type": "stream",
          "name": "stdout",
          "text": [
            "Enter your age: 25\n",
            "user_input is:  <class 'str'>\n",
            "age_as_int is:  <class 'int'>\n"
          ]
        }
      ]
    },
    {
      "cell_type": "markdown",
      "source": [
        "### Exercise 001\n",
        "The program that you create for this exercise will begin by reading the cost of a meal\n",
        "ordered at a restaurant from the user. Then your program will compute the tax and\n",
        "tip for the meal. Use your local tax rate when computing the amount of tax owing.\n",
        "Compute the tip as 18 percent of the meal amount (without the tax). The output from\n",
        "your program should include the tax amount, the tip amount, and the grand total for\n",
        "the meal including both the tax and the tip. Format the output so that all of the values\n",
        "are displayed using two decimal places."
      ],
      "metadata": {
        "id": "YTbNaNiqCY_j"
      }
    },
    {
      "cell_type": "code",
      "source": [
        "# Reading the cost of the meal\n",
        "cost = float(input(\"Please enter the cost of the meal ordered: \"))\n",
        "\n",
        "# Initialize parameters\n",
        "tax_rate = 0.09\n",
        "tip_rate = 0.18\n",
        "\n",
        "# Calculate tax and tip\n",
        "tax_amount = tax_rate * cost\n",
        "tip_amount = tip_rate * cost\n",
        "\n",
        "# Calculate grand total\n",
        "grand_total = cost + tax_amount + tip_amount\n",
        "\n",
        "# Display the results\n",
        "print(f\"The grand total is ${grand_total:.2f}\")\n",
        "print(f\"The tax amount is ${tax_amount:.2f}\")\n",
        "print(f\"The tip amount is ${tip_amount:.2f}\")"
      ],
      "metadata": {
        "colab": {
          "base_uri": "https://localhost:8080/",
          "height": 0
        },
        "id": "c8FdmAyMCX9E",
        "outputId": "1837ddb1-6bce-4e28-e39d-048406f0e46a"
      },
      "execution_count": 1,
      "outputs": [
        {
          "output_type": "stream",
          "name": "stdout",
          "text": [
            "Please enter the cost of the meal ordered: 55\n",
            "The grand total is $69.85\n",
            "The tax amount is $4.95\n",
            "The tip amount is $9.90\n"
          ]
        }
      ]
    },
    {
      "cell_type": "markdown",
      "source": [
        "### Exercise 002\n",
        "The volume of a cylinder can be computed by multiplying the area of its circular\n",
        "base by its height. Write a program that reads the radius of the cylinder, along with\n",
        "its height, from the user and computes its volume. Display the result rounded to one\n",
        "decimal place."
      ],
      "metadata": {
        "id": "BlMbUvibCuSE"
      }
    },
    {
      "cell_type": "code",
      "source": [
        "import math  # Import math module to use the constant pi\n",
        "\n",
        "# Prompt the user to enter the radius of the cylinder's base\n",
        "radius = float(input(\"Enter the radius of the cylinder's base (in units): \"))\n",
        "\n",
        "# Prompt the user to enter the height of the cylinder\n",
        "height = float(input(\"Enter the height of the cylinder (in units): \"))\n",
        "\n",
        "# Calculate the volume of the cylinder using the formula: volume = π * r^2 * h\n",
        "volume = math.pi * radius ** 2 * height\n",
        "\n",
        "# Display the result rounded to one decimal place\n",
        "print(f\"The volume of the cylinder is: {volume:.1f} cubic units.\")"
      ],
      "metadata": {
        "colab": {
          "base_uri": "https://localhost:8080/",
          "height": 0
        },
        "id": "nPzXEk_0DAMk",
        "outputId": "78c898bb-b5e4-45cc-bbb4-6052339ffd6d"
      },
      "execution_count": 2,
      "outputs": [
        {
          "output_type": "stream",
          "name": "stdout",
          "text": [
            "Enter the radius of the cylinder's base (in units): 5\n",
            "Enter the height of the cylinder (in units): 2\n",
            "The volume of the cylinder is: 157.1 cubic units.\n"
          ]
        }
      ]
    },
    {
      "cell_type": "markdown",
      "source": [
        "## Exercise 003\n",
        "Develop a program that reads a four-digit integer from the user and displays the sum\n",
        "of its digits. For example, if the user enters 3141 then your program should display\n",
        "3 + 1 + 4 + 1 = 9."
      ],
      "metadata": {
        "id": "l40aqHPrDhu8"
      }
    },
    {
      "cell_type": "code",
      "source": [
        "# Read a four-digit integer from the user\n",
        "number = int(input(\"Enter a four-digit integer: \"))\n",
        "\n",
        "# Extract each digit using integer division and modulus\n",
        "digit1 = number // 1000\n",
        "digit2 = (number // 100) % 10\n",
        "digit3 = (number // 10) % 10\n",
        "digit4 = number % 10\n",
        "\n",
        "# Calculate the sum of the digits\n",
        "digit_sum = digit1 + digit2 + digit3 + digit4\n",
        "\n",
        "# Display the result in the desired format\n",
        "print(f\"{digit1} + {digit2} + {digit3} + {digit4} = {digit_sum}\")\n"
      ],
      "metadata": {
        "colab": {
          "base_uri": "https://localhost:8080/",
          "height": 0
        },
        "id": "uHDL5VMVDhfT",
        "outputId": "3a9252a0-12ad-404b-b39b-3a9d2c8dc437"
      },
      "execution_count": 3,
      "outputs": [
        {
          "output_type": "stream",
          "name": "stdout",
          "text": [
            "Enter a four-digit integer: 1235\n",
            "1 + 2 + 3 + 5 = 11\n"
          ]
        }
      ]
    },
    {
      "cell_type": "markdown",
      "source": [
        "### Exercise 004\n",
        "Create a program that reads three integers from the user and displays them in sorted\n",
        "order (from smallest to largest). Use the min and max functions to find the smallest\n",
        "and largest values. The middle value can be found by computing the sum of all three\n",
        "values, and then subtracting the minimum value and the maximum value."
      ],
      "metadata": {
        "id": "jTUzSGLUE-zc"
      }
    },
    {
      "cell_type": "code",
      "source": [
        "# Read three integers from the user\n",
        "num1 = int(input(\"Enter the first integer: \"))\n",
        "num2 = int(input(\"Enter the second integer: \"))\n",
        "num3 = int(input(\"Enter the third integer: \"))\n",
        "\n",
        "# Find the smallest and largest values\n",
        "smallest = min(num1, num2, num3)\n",
        "largest = max(num1, num2, num3)\n",
        "\n",
        "# Calculate the middle value\n",
        "middle = (num1 + num2 + num3) - smallest - largest\n",
        "\n",
        "# Display the sorted order\n",
        "print(f\"The numbers in sorted order are: {smallest}, {middle}, {largest}\")\n"
      ],
      "metadata": {
        "id": "FEk9Gw0oCtyk"
      },
      "execution_count": null,
      "outputs": []
    }
  ]
}