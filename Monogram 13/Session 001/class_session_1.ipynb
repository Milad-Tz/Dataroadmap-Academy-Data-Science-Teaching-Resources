{
  "nbformat": 4,
  "nbformat_minor": 0,
  "metadata": {
    "colab": {
      "provenance": []
    },
    "kernelspec": {
      "name": "python3",
      "display_name": "Python 3"
    },
    "language_info": {
      "name": "python"
    }
  },
  "cells": [
    {
      "cell_type": "markdown",
      "source": [
        "# 1. `print()` Function\n",
        "\n",
        "The `print()` function is used to display information on the screen. It outputs data that you specify within the parentheses. You can use `print()` to show text, numbers, or the results of operations.\n",
        "\n",
        "print(value1, value2, ..., sep=' ', end='\\n')\n",
        "\n",
        "\n",
        "- **value1, value2, ...**: Values you want to print. These can be strings, numbers, or variables.\n",
        "- **sep**: Defines the separator between multiple values (default is a space).\n",
        "- **end**: Defines what happens at the end of the print statement (default is a newline `\\n`).\n"
      ],
      "metadata": {
        "id": "xLFj_CeKS2q5"
      }
    },
    {
      "cell_type": "code",
      "source": [
        "print(\"Hello world\")"
      ],
      "metadata": {
        "colab": {
          "base_uri": "https://localhost:8080/"
        },
        "id": "CYiB9iCrGDKU",
        "outputId": "8126245d-6327-4b9d-8436-32cd4700017d"
      },
      "execution_count": 1,
      "outputs": [
        {
          "output_type": "stream",
          "name": "stdout",
          "text": [
            "Hello world\n"
          ]
        }
      ]
    },
    {
      "cell_type": "code",
      "source": [
        "print(2)"
      ],
      "metadata": {
        "colab": {
          "base_uri": "https://localhost:8080/"
        },
        "id": "3WaB6wgmJF8e",
        "outputId": "fd06f8cc-b486-480a-c299-efe98df65735"
      },
      "execution_count": 2,
      "outputs": [
        {
          "output_type": "stream",
          "name": "stdout",
          "text": [
            "2\n"
          ]
        }
      ]
    },
    {
      "cell_type": "code",
      "source": [
        "print(\"the sum 2 and 3 is:\", 5)"
      ],
      "metadata": {
        "colab": {
          "base_uri": "https://localhost:8080/"
        },
        "id": "xVf_Xf1KJL0k",
        "outputId": "6cc7bce0-5f97-47a4-baec-88bfda3e4099"
      },
      "execution_count": 4,
      "outputs": [
        {
          "output_type": "stream",
          "name": "stdout",
          "text": [
            "the sum 2 and 3 is: 5\n"
          ]
        }
      ]
    },
    {
      "cell_type": "code",
      "source": [
        "print('hello', 'world', sep='* ')"
      ],
      "metadata": {
        "colab": {
          "base_uri": "https://localhost:8080/"
        },
        "id": "kfrJJmpGJmkF",
        "outputId": "ddf8b498-c73d-4501-f9e5-0ad2fdc8f915"
      },
      "execution_count": 6,
      "outputs": [
        {
          "output_type": "stream",
          "name": "stdout",
          "text": [
            "hello* world\n"
          ]
        }
      ]
    },
    {
      "cell_type": "code",
      "source": [
        "print('milad')\n",
        "print('ali')"
      ],
      "metadata": {
        "colab": {
          "base_uri": "https://localhost:8080/"
        },
        "id": "mE9p7ClYKDaj",
        "outputId": "752578c2-6f68-4298-d549-59a561a6b206"
      },
      "execution_count": 9,
      "outputs": [
        {
          "output_type": "stream",
          "name": "stdout",
          "text": [
            "milad\n",
            "ali\n"
          ]
        }
      ]
    },
    {
      "cell_type": "code",
      "source": [
        "print('milad', end=', ')\n",
        "print('ali')"
      ],
      "metadata": {
        "colab": {
          "base_uri": "https://localhost:8080/"
        },
        "id": "tzEaN0jmJ6e1",
        "outputId": "3c93d4a0-d508-4908-b2fa-81580c3b0201"
      },
      "execution_count": 8,
      "outputs": [
        {
          "output_type": "stream",
          "name": "stdout",
          "text": [
            "milad, ali\n"
          ]
        }
      ]
    },
    {
      "cell_type": "markdown",
      "source": [
        "# 2. Python Variables and Data Types\n",
        "\n",
        "## 2.1 What are Variables?\n",
        "\n",
        "In Python, a variable is a named location used to store data in memory. Variables allow you to reference data throughout your program by name rather than using the actual value.\n",
        "\n",
        "variable_name = value\n",
        "\n",
        "- **variable_name**: A unique identifier for the variable (should start with a letter or underscore).\n",
        "- **value**: The data you want to store in the variable.\n"
      ],
      "metadata": {
        "id": "HIklY300dbA3"
      }
    },
    {
      "cell_type": "code",
      "source": [
        "x = 2\n",
        "X = 3"
      ],
      "metadata": {
        "id": "OQEpMwbmGQVF"
      },
      "execution_count": 10,
      "outputs": []
    },
    {
      "cell_type": "code",
      "source": [
        "x = 5 # an integrer variable\n",
        "name = 'milad' # a string variabl"
      ],
      "metadata": {
        "id": "gpYFehQ-Kf2s"
      },
      "execution_count": 11,
      "outputs": []
    },
    {
      "cell_type": "code",
      "source": [
        "print(name)"
      ],
      "metadata": {
        "colab": {
          "base_uri": "https://localhost:8080/"
        },
        "id": "GwLiwv6TKoI8",
        "outputId": "0f81b344-0a50-4aff-d568-ad9ab9c5d48e"
      },
      "execution_count": 12,
      "outputs": [
        {
          "output_type": "stream",
          "name": "stdout",
          "text": [
            "milad\n"
          ]
        }
      ]
    },
    {
      "cell_type": "markdown",
      "source": [
        "## 2.2 Common Data Types\n",
        "\n",
        "Python has several built-in data types that you can use to define the kind of data stored in a variable:\n",
        "\n",
        "- **Integers**: Whole numbers, e.g., 5, -3, 42\n",
        "- **Floats**: Decimal numbers, e.g., 3.14, -0.001, 2.0\n",
        "- **Strings**: Sequence of characters, enclosed in single or double quotes, e.g., \"Hello\", 'World'\n",
        "- **Booleans**: Represents `True` or `False`"
      ],
      "metadata": {
        "id": "XFtrD4tfeT4C"
      }
    },
    {
      "cell_type": "code",
      "source": [
        "num = 2\n",
        "type(num)"
      ],
      "metadata": {
        "colab": {
          "base_uri": "https://localhost:8080/"
        },
        "id": "YkkEqno3LGXV",
        "outputId": "8e077fdb-5c7d-4a12-9121-369ab6dba1cf"
      },
      "execution_count": 14,
      "outputs": [
        {
          "output_type": "execute_result",
          "data": {
            "text/plain": [
              "int"
            ]
          },
          "metadata": {},
          "execution_count": 14
        }
      ]
    },
    {
      "cell_type": "code",
      "source": [
        "score = 19.5\n",
        "type(score)"
      ],
      "metadata": {
        "colab": {
          "base_uri": "https://localhost:8080/"
        },
        "id": "p24OBEAYGRc1",
        "outputId": "e20b0c76-75c0-4fb6-9404-d0c042d52ed4"
      },
      "execution_count": 15,
      "outputs": [
        {
          "output_type": "execute_result",
          "data": {
            "text/plain": [
              "float"
            ]
          },
          "metadata": {},
          "execution_count": 15
        }
      ]
    },
    {
      "cell_type": "markdown",
      "source": [
        "## 2.3 Typecasting\n",
        "\n",
        "Typecasting is the process of converting a variable from one data type to another. This is often necessary when performing operations that require specific data types.\n",
        "\n",
        "### Common Typecasting Functions:\n",
        "- **int()**: Converts a value to an integer.\n",
        "- **float()**: Converts a value to a float.\n",
        "- **str()**: Converts a value to a string.\n"
      ],
      "metadata": {
        "id": "v0TnW03aeluN"
      }
    },
    {
      "cell_type": "code",
      "source": [
        "number = 3.124\n",
        "print(number)"
      ],
      "metadata": {
        "colab": {
          "base_uri": "https://localhost:8080/"
        },
        "id": "20OtomcGGSj9",
        "outputId": "be8e1845-e9ff-436e-996b-1a83391e819d"
      },
      "execution_count": 16,
      "outputs": [
        {
          "output_type": "stream",
          "name": "stdout",
          "text": [
            "3.124\n"
          ]
        }
      ]
    },
    {
      "cell_type": "code",
      "source": [
        "number_int = int(number)\n",
        "print(type(number_int))\n",
        "print(number_int)"
      ],
      "metadata": {
        "colab": {
          "base_uri": "https://localhost:8080/"
        },
        "id": "k9sZOrn8Lgmv",
        "outputId": "ea523a9c-69c1-4200-fc96-f2945415e5b1"
      },
      "execution_count": 19,
      "outputs": [
        {
          "output_type": "stream",
          "name": "stdout",
          "text": [
            "<class 'int'>\n",
            "3\n"
          ]
        }
      ]
    },
    {
      "cell_type": "code",
      "source": [
        "number_string = str(number)\n",
        "print(type(number_string))\n",
        "print(number_string)"
      ],
      "metadata": {
        "colab": {
          "base_uri": "https://localhost:8080/"
        },
        "id": "VJlLI-n5LxHv",
        "outputId": "80d3f29f-1c54-49d1-fc49-8e73f936c230"
      },
      "execution_count": 20,
      "outputs": [
        {
          "output_type": "stream",
          "name": "stdout",
          "text": [
            "<class 'str'>\n",
            "3.124\n"
          ]
        }
      ]
    },
    {
      "cell_type": "markdown",
      "source": [
        "### Using f-Strings with `print()`\n",
        "\n",
        "In Python, f-strings (formatted string literals) provide a way to embed expressions inside string literals, using curly braces `{}`. This allows for more readable and concise string formatting compared to older methods.\n",
        "\n",
        "#### Syntax:\n",
        "print(f'{expression}')\n",
        "\n",
        "f: The letter f before the opening quotation mark indicates that the string is an f-string.\n",
        "{expression}: Inside the curly braces, you can place any valid Python expression, variable, or function call, which will be evaluated at runtime and formatted into the string."
      ],
      "metadata": {
        "id": "awUFkiuSEkOU"
      }
    },
    {
      "cell_type": "code",
      "source": [
        "age = 27\n",
        "name = 'milad'\n",
        "print('Name:', name, ', age:', age)"
      ],
      "metadata": {
        "colab": {
          "base_uri": "https://localhost:8080/"
        },
        "id": "eApOo8DuMYyM",
        "outputId": "45737f57-2595-4d08-a493-d790abde4f8b"
      },
      "execution_count": 22,
      "outputs": [
        {
          "output_type": "stream",
          "name": "stdout",
          "text": [
            "Name: milad , age: 27\n"
          ]
        }
      ]
    },
    {
      "cell_type": "code",
      "source": [
        "print('Name: name , age: age')"
      ],
      "metadata": {
        "colab": {
          "base_uri": "https://localhost:8080/"
        },
        "id": "S9lkzjOBM8pd",
        "outputId": "c182953c-e32a-449f-f63c-ac23366cba03"
      },
      "execution_count": 23,
      "outputs": [
        {
          "output_type": "stream",
          "name": "stdout",
          "text": [
            "Name: name , age: age\n"
          ]
        }
      ]
    },
    {
      "cell_type": "code",
      "source": [
        "print(f'Name: {name} , Age: {age}')"
      ],
      "metadata": {
        "colab": {
          "base_uri": "https://localhost:8080/"
        },
        "id": "W2U_6yj_NJd9",
        "outputId": "359299b7-a655-4141-ea5b-d6e6013c871e"
      },
      "execution_count": 26,
      "outputs": [
        {
          "output_type": "stream",
          "name": "stdout",
          "text": [
            "Name: milad , Age: 27\n"
          ]
        }
      ]
    },
    {
      "cell_type": "markdown",
      "source": [
        "# 3. Python Basic Operations: Arithmetic and String Operations\n",
        "\n",
        "## 3.1 Arithmetic Operations for Numbers\n",
        "\n",
        "Arithmetic operations are used to perform calculations on numeric data types (integers and floats). Python supports several arithmetic operators:\n",
        "\n",
        "### Arithmetic Operators:\n",
        "- **Addition (+)**: Adds two numbers.\n",
        "- **Subtraction (-)**: Subtracts one number from another.\n",
        "- **Multiplication (*)**: Multiplies two numbers.\n",
        "- **Division (/)**: Divides one number by another (always returns a float).\n",
        "- **Floor Division (//)**: Divides one number by another and returns the largest integer less than or equal to the result.\n",
        "- **Modulus (%)**: Returns the remainder of the division of one number by another.\n",
        "- **Exponentiation (**)**: Raises one number to the power of another."
      ],
      "metadata": {
        "id": "tmbXQWqrh9XW"
      }
    },
    {
      "cell_type": "code",
      "source": [
        "x = 10\n",
        "y = 3"
      ],
      "metadata": {
        "id": "qRNJV469iMy_"
      },
      "execution_count": 27,
      "outputs": []
    },
    {
      "cell_type": "code",
      "source": [
        "print(\"addition:\", x + y)"
      ],
      "metadata": {
        "colab": {
          "base_uri": "https://localhost:8080/"
        },
        "id": "mjKA4HANGWtj",
        "outputId": "e7f80386-e0e9-4acd-bab8-515560662866"
      },
      "execution_count": 29,
      "outputs": [
        {
          "output_type": "stream",
          "name": "stdout",
          "text": [
            "addition: 13\n"
          ]
        }
      ]
    },
    {
      "cell_type": "code",
      "source": [
        "print('substraction: ', x - y)"
      ],
      "metadata": {
        "colab": {
          "base_uri": "https://localhost:8080/"
        },
        "id": "wFFlyqs7OEy1",
        "outputId": "a689cba0-ac38-4403-e367-1a6b303cafbf"
      },
      "execution_count": 30,
      "outputs": [
        {
          "output_type": "stream",
          "name": "stdout",
          "text": [
            "substraction:  7\n"
          ]
        }
      ]
    },
    {
      "cell_type": "code",
      "source": [
        "print('Division: ', x / y)"
      ],
      "metadata": {
        "colab": {
          "base_uri": "https://localhost:8080/"
        },
        "id": "xBbh_xvuOP91",
        "outputId": "b4ed92f3-b5ce-4ff5-e355-9a20ea3aec93"
      },
      "execution_count": 31,
      "outputs": [
        {
          "output_type": "stream",
          "name": "stdout",
          "text": [
            "Division:  3.3333333333333335\n"
          ]
        }
      ]
    },
    {
      "cell_type": "code",
      "source": [
        "print('Floor Division: ', x // y)"
      ],
      "metadata": {
        "colab": {
          "base_uri": "https://localhost:8080/"
        },
        "id": "kXeJi3MUOXzk",
        "outputId": "85a21248-1d76-4f73-8e7d-e690f2369e6d"
      },
      "execution_count": 32,
      "outputs": [
        {
          "output_type": "stream",
          "name": "stdout",
          "text": [
            "Floor Division:  3\n"
          ]
        }
      ]
    },
    {
      "cell_type": "code",
      "source": [
        "print('Modulus: ', x % y)"
      ],
      "metadata": {
        "colab": {
          "base_uri": "https://localhost:8080/"
        },
        "id": "m2Ys64ugOeYF",
        "outputId": "f35c1f1b-dc96-4d31-fc22-3c643481fc59"
      },
      "execution_count": 33,
      "outputs": [
        {
          "output_type": "stream",
          "name": "stdout",
          "text": [
            "Modulus:  1\n"
          ]
        }
      ]
    },
    {
      "cell_type": "markdown",
      "source": [
        "## 3.2 String Operations\n",
        "\n",
        "Strings in Python can also be manipulated using various operators. The most common operation is concatenation, which combines two or more strings.\n",
        "\n",
        "### String Operators:\n",
        "- **Concatenation (+)**: Combines two strings into one.\n",
        "- **Repetition (*)**: Repeats a string a specified number of times.\n"
      ],
      "metadata": {
        "id": "eHjqzy7UjBIr"
      }
    },
    {
      "cell_type": "code",
      "source": [
        "first_name = 'milad'\n",
        "last_name = 'tahvilzadeh'"
      ],
      "metadata": {
        "id": "5y5V1CIdGYUL"
      },
      "execution_count": 34,
      "outputs": []
    },
    {
      "cell_type": "code",
      "source": [
        "full_name = first_name + ' ' + last_name\n",
        "print(full_name)"
      ],
      "metadata": {
        "colab": {
          "base_uri": "https://localhost:8080/"
        },
        "id": "K59EceHTOuPG",
        "outputId": "e7002d7e-8632-4ee1-ed7a-1672cd20e4f8"
      },
      "execution_count": 37,
      "outputs": [
        {
          "output_type": "stream",
          "name": "stdout",
          "text": [
            "milad tahvilzadeh\n"
          ]
        }
      ]
    },
    {
      "cell_type": "code",
      "source": [
        "print((full_name + ' ') * 3)"
      ],
      "metadata": {
        "colab": {
          "base_uri": "https://localhost:8080/"
        },
        "id": "5SqvbjWKO7Hc",
        "outputId": "2115050e-81cb-43aa-ea30-c91f417ccacc"
      },
      "execution_count": 42,
      "outputs": [
        {
          "output_type": "stream",
          "name": "stdout",
          "text": [
            "milad tahvilzadeh milad tahvilzadeh milad tahvilzadeh \n"
          ]
        }
      ]
    },
    {
      "cell_type": "markdown",
      "source": [
        "# 4. `input()` Function\n",
        "\n",
        "The `input()` function is used to take input from the user. It prompts the user to enter some data, which is then returned as a string.\n",
        "\n",
        "\n",
        "- **prompt**: A string that is displayed to the user, asking for input (optional).\n"
      ],
      "metadata": {
        "id": "TbNZc9lSbscf"
      }
    },
    {
      "cell_type": "code",
      "source": [
        "input()"
      ],
      "metadata": {
        "colab": {
          "base_uri": "https://localhost:8080/",
          "height": 53
        },
        "id": "LZXmHxVqGYv8",
        "outputId": "60d2f6d2-22ea-40ad-93f9-96170470089b"
      },
      "execution_count": 51,
      "outputs": [
        {
          "name": "stdout",
          "output_type": "stream",
          "text": [
            "gnknsv\n"
          ]
        },
        {
          "output_type": "execute_result",
          "data": {
            "text/plain": [
              "'gnknsv'"
            ],
            "application/vnd.google.colaboratory.intrinsic+json": {
              "type": "string"
            }
          },
          "metadata": {},
          "execution_count": 51
        }
      ]
    },
    {
      "cell_type": "code",
      "source": [
        "user_input = input()"
      ],
      "metadata": {
        "colab": {
          "base_uri": "https://localhost:8080/"
        },
        "id": "z1sKMi3XPcdV",
        "outputId": "7ea1a09d-6f85-4134-c084-c95e5c3afb36"
      },
      "execution_count": 52,
      "outputs": [
        {
          "name": "stdout",
          "output_type": "stream",
          "text": [
            "milad\n"
          ]
        }
      ]
    },
    {
      "cell_type": "code",
      "source": [
        "print(user_input)"
      ],
      "metadata": {
        "colab": {
          "base_uri": "https://localhost:8080/"
        },
        "id": "MigI7JZaPiDj",
        "outputId": "01999e92-4bfd-42dd-a787-84368c5671db"
      },
      "execution_count": 53,
      "outputs": [
        {
          "output_type": "stream",
          "name": "stdout",
          "text": [
            "milad\n"
          ]
        }
      ]
    },
    {
      "cell_type": "code",
      "source": [
        "birthyear = input('Enter your birthyear: ')\n",
        "name = input('Enter your name: ')\n",
        "print(type(birthyear))\n"
      ],
      "metadata": {
        "colab": {
          "base_uri": "https://localhost:8080/"
        },
        "id": "Ij4nTaO8PptM",
        "outputId": "af03ad3b-072f-45bb-f46a-704fd9b80bab"
      },
      "execution_count": 54,
      "outputs": [
        {
          "output_type": "stream",
          "name": "stdout",
          "text": [
            "Enter your birthyear: 1997\n",
            "Enter your name: sara\n",
            "<class 'str'>\n"
          ]
        }
      ]
    },
    {
      "cell_type": "code",
      "source": [
        "age = 2024 - int(birthyear)\n",
        "print(f'Hi {name}! Your age is {age}')"
      ],
      "metadata": {
        "colab": {
          "base_uri": "https://localhost:8080/"
        },
        "id": "crjTNsaaQfN9",
        "outputId": "ed816ef8-70ff-4602-c2ad-15b348279a95"
      },
      "execution_count": 56,
      "outputs": [
        {
          "output_type": "stream",
          "name": "stdout",
          "text": [
            "Hi sara! Your age is 27\n"
          ]
        }
      ]
    },
    {
      "cell_type": "markdown",
      "source": [
        "### Exercise 001\n",
        "The program that you create for this exercise will begin by reading the cost of a meal\n",
        "ordered at a restaurant from the user. Then your program will compute the tax and\n",
        "tip for the meal. Use your local tax rate when computing the amount of tax owing.\n",
        "Compute the tip as 18 percent of the meal amount (without the tax). The output from\n",
        "your program should include the tax amount, the tip amount, and the grand total for\n",
        "the meal including both the tax and the tip. Format the output so that all of the values\n",
        "are displayed using two decimal places."
      ],
      "metadata": {
        "id": "YTbNaNiqCY_j"
      }
    },
    {
      "cell_type": "code",
      "source": [
        "# Reading cost of the meal\n",
        "cost = float(input(\"Please Enter the cost of the meal: \"))\n",
        "\n",
        "# Initialize parameters\n",
        "tax_rate = 0.09\n",
        "tip_rate = 0.18\n",
        "\n",
        "# Calculate tax and tip\n",
        "tax = tax_rate * cost\n",
        "tip = tip_rate * cost\n",
        "\n",
        "# Calculate total amount\n",
        "total_amount = cost + tip + tax\n",
        "\n",
        "print(f\"The total amount is: {total_amount}\")\n",
        "print(f\"The tax amount is: {tax}\")\n",
        "print(f\"The tip amount is: {tip}\")"
      ],
      "metadata": {
        "colab": {
          "base_uri": "https://localhost:8080/"
        },
        "id": "zu1r3QrBQ3FT",
        "outputId": "af805a48-f7b6-4237-954e-e60298faedab"
      },
      "execution_count": 59,
      "outputs": [
        {
          "output_type": "stream",
          "name": "stdout",
          "text": [
            "Please Enter the cost of the meal: 3000\n",
            "The total amount is: 3810.0\n",
            "The tax amount is: 270.0\n",
            "The tip amount is: 540.0\n"
          ]
        }
      ]
    },
    {
      "cell_type": "markdown",
      "source": [
        "### Exercise 002\n",
        "The volume of a cylinder can be computed by multiplying the area of its circular\n",
        "base by its height. Write a program that reads the radius of the cylinder, along with\n",
        "its height, from the user and computes its volume. Display the result rounded to one\n",
        "decimal place."
      ],
      "metadata": {
        "id": "BlMbUvibCuSE"
      }
    },
    {
      "cell_type": "code",
      "source": [],
      "metadata": {
        "id": "dt3qcuJhTqH-"
      },
      "execution_count": null,
      "outputs": []
    },
    {
      "cell_type": "markdown",
      "source": [
        "## Exercise 003\n",
        "Develop a program that reads a four-digit integer from the user and displays the sum\n",
        "of its digits. For example, if the user enters 3141 then your program should display\n",
        "3 + 1 + 4 + 1 = 9."
      ],
      "metadata": {
        "id": "l40aqHPrDhu8"
      }
    },
    {
      "cell_type": "code",
      "source": [
        "number = int(input(\"enter four digit integer: \"))\n",
        "\n",
        "digit_1 = number // 1000\n",
        "digit_2 = (number // 100) % 10\n",
        "digit_3 = (number // 10) % 10\n",
        "digit_4 = number % 10\n",
        "\n",
        "print(digit_1 + digit_2 + digit_3 + digit_4)"
      ],
      "metadata": {
        "colab": {
          "base_uri": "https://localhost:8080/"
        },
        "id": "1uhYaTzbUXvN",
        "outputId": "27a9e0e8-2eb4-4cbd-bb72-75d36bd8728c"
      },
      "execution_count": 65,
      "outputs": [
        {
          "output_type": "stream",
          "name": "stdout",
          "text": [
            "enter four digit integer: 2578\n",
            "22\n"
          ]
        }
      ]
    },
    {
      "cell_type": "code",
      "source": [
        "number = input(\"enter four digit integer: \")\n",
        "\n",
        "digit_1 = int(number[0])\n",
        "digit_2 = int(number[1])\n",
        "digit_3 = int(number[2])\n",
        "digit_4 = int(number[3])\n",
        "print(digit_1 + digit_2 + digit_3 + digit_4)"
      ],
      "metadata": {
        "colab": {
          "base_uri": "https://localhost:8080/"
        },
        "id": "1i4yiEWaV4_-",
        "outputId": "bf0e398c-2158-419d-f65c-8e8827b64df2"
      },
      "execution_count": 72,
      "outputs": [
        {
          "output_type": "stream",
          "name": "stdout",
          "text": [
            "enter four digit integer: 4548\n",
            "21\n"
          ]
        }
      ]
    },
    {
      "cell_type": "code",
      "source": [
        "text = '1254'"
      ],
      "metadata": {
        "id": "q4MGZYzlUrLs"
      },
      "execution_count": 66,
      "outputs": []
    },
    {
      "cell_type": "code",
      "source": [
        "text[-1]"
      ],
      "metadata": {
        "colab": {
          "base_uri": "https://localhost:8080/",
          "height": 36
        },
        "id": "e8v8OHUKWDHd",
        "outputId": "555bb414-6efb-4742-f7b7-54cf8bb2a69e"
      },
      "execution_count": 70,
      "outputs": [
        {
          "output_type": "execute_result",
          "data": {
            "text/plain": [
              "'4'"
            ],
            "application/vnd.google.colaboratory.intrinsic+json": {
              "type": "string"
            }
          },
          "metadata": {},
          "execution_count": 70
        }
      ]
    },
    {
      "cell_type": "markdown",
      "source": [
        "### Exercise 004\n",
        "Create a program that reads three integers from the user and displays them in sorted\n",
        "order (from smallest to largest). Use the min and max functions to find the smallest\n",
        "and largest values. The middle value can be found by computing the sum of all three\n",
        "values, and then subtracting the minimum value and the maximum value."
      ],
      "metadata": {
        "id": "jTUzSGLUE-zc"
      }
    }
  ]
}