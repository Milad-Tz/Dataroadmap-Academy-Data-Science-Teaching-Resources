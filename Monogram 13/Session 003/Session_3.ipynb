{
  "cells": [
    {
      "cell_type": "markdown",
      "metadata": {
        "id": "RnAHTyGCek5L"
      },
      "source": [
        "# Python String Indexing\n",
        "## 1.1 What is String Indexing?\n",
        "String indexing in Python allows you to access individual characters in a string by their position, known as the index. Each character in a string has a unique index:\n",
        "\n",
        "- Positive indexing starts from 0, where 0 refers to the first character.\n",
        "- Negative indexing starts from -1, where -1 refers to the last character."
      ]
    },
    {
      "cell_type": "code",
      "execution_count": null,
      "metadata": {
        "id": "U8AVYeCKXclC"
      },
      "outputs": [],
      "source": [
        "word = \"Python\"\n",
        "print(word[0])    # Output: P (first character)\n",
        "print(word[3])    # Output: h (fourth character)\n",
        "print(word[-1])   # Output: n (last character)\n",
        "print(word[-2])   # Output: o (second last character)"
      ]
    },
    {
      "cell_type": "markdown",
      "metadata": {
        "id": "hj5iEkpke6Q_"
      },
      "source": [
        "## 1.2 String Slicing\n",
        "\n",
        "In Python, you can access a range of characters (a substring) in a string using **slicing**. Slicing allows you to specify the starting and ending indices of the substring, though the character at the end index is **not included**.\n",
        "\n",
        "`string_variable[start:end]`\n",
        "\n",
        "- `start`: The index where the slice begins (inclusive).\n",
        "- `end`: The index where the slice ends (exclusive).\n"
      ]
    },
    {
      "cell_type": "code",
      "execution_count": null,
      "metadata": {
        "colab": {
          "base_uri": "https://localhost:8080/"
        },
        "id": "qKArqK-_e53p",
        "outputId": "e2c92a54-adb5-4ec9-bcac-ba1d9c21f3cd"
      },
      "outputs": [
        {
          "name": "stdout",
          "output_type": "stream",
          "text": [
            "Pyth\n",
            "Py\n",
            "thon\n",
            "th\n"
          ]
        }
      ],
      "source": [
        "word = \"Python\"\n",
        "print(word[0:4])    # Output: Pyth (characters from index 0 to 3)\n",
        "print(word[:2])     # Output: Py (characters from index 0 to 1)\n",
        "print(word[2:])     # Output: thon (characters from index 2 to the end)\n",
        "print(word[-4:-2])"
      ]
    },
    {
      "cell_type": "markdown",
      "metadata": {
        "id": "v-7WFNLtkDUJ"
      },
      "source": [
        "## 1.3 Step Slicing\n",
        "\n",
        "In Python, you can also add a **step** to your slicing, which allows you to skip characters. By default, the step is `1` (no skipping).\n",
        "\n",
        "`string_variable[start:end:step]`\n"
      ]
    },
    {
      "cell_type": "code",
      "execution_count": null,
      "metadata": {
        "colab": {
          "base_uri": "https://localhost:8080/"
        },
        "id": "QovPbcq8fiBM",
        "outputId": "ec9d60f8-f8d1-47d1-8661-7ea3fe23d81f"
      },
      "outputs": [
        {
          "name": "stdout",
          "output_type": "stream",
          "text": [
            "Pto\n",
            "yhn\n",
            "nohtyP\n"
          ]
        }
      ],
      "source": [
        "word = \"Python\"\n",
        "print(word[::2])    # Output: Pto (every second character)\n",
        "print(word[1::2])   # Output: yhn (starting from index 1, every second character)\n",
        "print(word[::-1])"
      ]
    },
    {
      "cell_type": "markdown",
      "metadata": {
        "id": "xBxsWg3Mlpgz"
      },
      "source": [
        "## Exercise 001\n",
        "Write a program that asks the user for a word and then prints:\n",
        "\n",
        "- The first and last characters.\n",
        "- A substring from the second to the fourth character.\n",
        "- The word in reverse using slicing."
      ]
    },
    {
      "cell_type": "code",
      "execution_count": null,
      "metadata": {
        "colab": {
          "background_save": true,
          "base_uri": "https://localhost:8080/"
        },
        "id": "jbmxgMFBlBjL",
        "outputId": "6c5d82f3-c426-4862-ae46-15084e1905a7"
      },
      "outputs": [
        {
          "name": "stdout",
          "output_type": "stream",
          "text": [
            "First character: d\n",
            "Last character: p\n",
            "Substring (2nd to 4th character): ata\n",
            "Reversed word: pamdaoratad\n"
          ]
        }
      ],
      "source": [
        "word = input(\"Enter a word: \")\n",
        "\n",
        "# First and last characters\n",
        "print(\"First character:\", word[0])\n",
        "print(\"Last character:\", word[-1])\n",
        "\n",
        "# Substring from second to fourth character\n",
        "print(\"Substring (2nd to 4th character):\", word[1:4])\n",
        "\n",
        "# Word in reverse\n",
        "print(\"Reversed word:\", word[::-1])"
      ]
    },
    {
      "cell_type": "markdown",
      "metadata": {
        "id": "lyZXKB34CCOj"
      },
      "source": [
        "# String Methods"
      ]
    },
    {
      "cell_type": "markdown",
      "metadata": {
        "id": "FQ7KYRSQAd9B"
      },
      "source": [
        "## `strip()` – Removing Unwanted Spaces\n",
        "\n",
        "The `strip()` method removes leading and trailing whitespace (spaces, tabs, newlines) from a string.\n",
        "\n",
        "`example.strip()`\n"
      ]
    },
    {
      "cell_type": "code",
      "execution_count": null,
      "metadata": {
        "colab": {
          "base_uri": "https://localhost:8080/"
        },
        "id": "9BW5KNVECMbF",
        "outputId": "fc35015a-6a18-42a2-83b6-e66b7eb51a8d"
      },
      "outputs": [
        {
          "name": "stdout",
          "output_type": "stream",
          "text": [
            "'Hello, World!'\n"
          ]
        }
      ],
      "source": [
        "text = \"  Hello, World!  \"\n",
        "cleaned_text = text.strip()\n",
        "print(f\"'{cleaned_text}'\")  # Output: 'Hello, World!'"
      ]
    },
    {
      "cell_type": "code",
      "execution_count": null,
      "metadata": {
        "colab": {
          "base_uri": "https://localhost:8080/"
        },
        "id": "cMkAnT2ZCMYD",
        "outputId": "8e2dbb56-76b5-4708-d336-bbe0bcd3894c"
      },
      "outputs": [
        {
          "name": "stdout",
          "output_type": "stream",
          "text": [
            "'  Hello, Python'\n"
          ]
        }
      ],
      "source": [
        "text = \"  Hello, Python!!!\"\n",
        "cleaned_text = text.rstrip(\"!\")\n",
        "print(f\"'{cleaned_text}'\")  # Output: '  Hello, Python'"
      ]
    },
    {
      "cell_type": "code",
      "execution_count": null,
      "metadata": {
        "colab": {
          "base_uri": "https://localhost:8080/"
        },
        "id": "CC83aDObCB0b",
        "outputId": "7d2e0e6b-9ce8-44d4-fd43-e607e187a494"
      },
      "outputs": [
        {
          "name": "stdout",
          "output_type": "stream",
          "text": [
            "'Hello, World!   '\n"
          ]
        }
      ],
      "source": [
        "text = \"   Hello, World!   \"\n",
        "cleaned_text = text.lstrip()\n",
        "print(f\"'{cleaned_text}'\")  # Output: 'Hello, World!   '\n"
      ]
    },
    {
      "cell_type": "markdown",
      "metadata": {
        "id": "trQca-o_A4UC"
      },
      "source": [
        "## `lower()` and `upper()` – Case Conversion\n",
        "\n",
        "- The `lower()` method converts all characters in a string to lowercase.\n",
        "- The `upper()` method converts all characters in a string to uppercase.\n",
        "\n",
        "`example.lower()`\n",
        "`example.upper()`"
      ]
    },
    {
      "cell_type": "code",
      "execution_count": null,
      "metadata": {
        "colab": {
          "base_uri": "https://localhost:8080/"
        },
        "id": "_5Q3zqq9BYv6",
        "outputId": "03eea22c-e88d-4e36-f907-a1788d8b6666"
      },
      "outputs": [
        {
          "name": "stdout",
          "output_type": "stream",
          "text": [
            "data science is amazing!\n"
          ]
        }
      ],
      "source": [
        "text = \"Data Science is Amazing!\"\n",
        "cleaned_text = text.lower()  # Convert to lowercase for consistent analysis\n",
        "print(cleaned_text)  # Output: 'data science is amazing!'\n"
      ]
    },
    {
      "cell_type": "markdown",
      "metadata": {
        "id": "iZTOIvCnB1PJ"
      },
      "source": [
        "## `replace()` – Making Abbreviations Understandable\n",
        "\n",
        "The `replace()` method is often used to standardize data, such as replacing abbreviations, correcting misspellings, or removing unwanted characters.\n",
        "\n",
        "`example.replace(\"abbreviation\", \"full term\")`\n"
      ]
    },
    {
      "cell_type": "code",
      "execution_count": null,
      "metadata": {
        "id": "28JtrqerB4OR"
      },
      "outputs": [],
      "source": [
        "message = \"CEO said to check the KPIs ASAP.\"\n",
        "decoded_message = message.replace(\"KPIs\", \"Key Performance Indicators\").replace(\"ASAP\", \"as soon as possible\")\n",
        "print(decoded_message)  # Output: 'CEO said to check the Key Performance Indicators as soon as possible.'"
      ]
    },
    {
      "cell_type": "markdown",
      "metadata": {
        "id": "xh8DIEgOCM9b"
      },
      "source": [
        "##`startswith()` and `endswith()` – Filtering Data\n",
        "\n",
        "In datasets with specific patterns (like filenames, URLs, or email addresses), you may want to filter strings that start or end with certain keywords.\n",
        "\n",
        "- `example.startswith(\"keyword\")`: Checks if the string starts with the specified keyword.\n",
        "- `example.endswith(\"keyword\")`: Checks if the string ends with the specified keyword.\n"
      ]
    },
    {
      "cell_type": "code",
      "execution_count": null,
      "metadata": {
        "colab": {
          "base_uri": "https://localhost:8080/"
        },
        "id": "mV59wBMbB4Gz",
        "outputId": "d2b3193b-67cd-4a57-ae1e-e6e85c641e92"
      },
      "outputs": [
        {
          "name": "stdout",
          "output_type": "stream",
          "text": [
            "True\n"
          ]
        }
      ],
      "source": [
        "email = \"user@gmail.com\"\n",
        "is_valid = email.endswith(\"gmail.com\")  # Checking if email ends with '.com'\n",
        "print(is_valid)  # Output: True\n"
      ]
    },
    {
      "cell_type": "code",
      "execution_count": null,
      "metadata": {
        "colab": {
          "base_uri": "https://localhost:8080/"
        },
        "id": "0PuMhjD1CZFS",
        "outputId": "ded460b5-8956-41ad-c47a-c5585e5a83b0"
      },
      "outputs": [
        {
          "name": "stdout",
          "output_type": "stream",
          "text": [
            "True\n"
          ]
        }
      ],
      "source": [
        "phone = \"+9890312811111\"\n",
        "is_valid = phone.startswith(\"+98\")  # Checking if email ends with '.com'\n",
        "print(is_valid)  # Output: True"
      ]
    },
    {
      "cell_type": "markdown",
      "metadata": {
        "id": "962RJ-soCxXR"
      },
      "source": [
        "## `join()` – Combining Text Data\n",
        "\n",
        "After processing, you might want to recombine text fields. The `join()` method is often used to concatenate lists back into a single string.\n",
        "\n",
        "`separator.join(list_of_strings)`"
      ]
    },
    {
      "cell_type": "code",
      "execution_count": null,
      "metadata": {
        "colab": {
          "base_uri": "https://localhost:8080/"
        },
        "id": "VBAiSLJsCwza",
        "outputId": "f7bd7dcd-dd4b-4458-bcf8-dbbf86b7a0de"
      },
      "outputs": [
        {
          "name": "stdout",
          "output_type": "stream",
          "text": [
            "DataScienceisfun\n"
          ]
        }
      ],
      "source": [
        "words = [\"Data\", \"Science\", \"is\", \"fun\"]\n",
        "sentence = \" \".join(words)  # Combine list of words into a sentence\n",
        "print(sentence)  # Output: 'Data Science is fun'\n"
      ]
    },
    {
      "cell_type": "markdown",
      "metadata": {
        "id": "_9QLFtyxDtLr"
      },
      "source": [
        "## `isalpha()`, `isdigit()`, and `isalnum()` – Validating Data\n",
        "\n",
        "In data cleaning, it's essential to verify the type of data in a string, especially when validating input fields like IDs, phone numbers, or product codes.\n",
        "\n",
        "- `example.isalpha()`: Returns `True` if all characters in the string are alphabetic.\n",
        "- `example.isdigit()`: Returns `True` if all characters in the string are digits.\n",
        "- `example.isalnum()`: Returns `True` if all characters in the string are alphanumeric (letters and digits).\n"
      ]
    },
    {
      "cell_type": "code",
      "execution_count": null,
      "metadata": {
        "colab": {
          "base_uri": "https://localhost:8080/"
        },
        "id": "AEAVsXmaEQw0",
        "outputId": "96dd094f-d31e-4aaf-d1cd-5786d229eba8"
      },
      "outputs": [
        {
          "name": "stdout",
          "output_type": "stream",
          "text": [
            "True\n",
            "False\n"
          ]
        }
      ],
      "source": [
        "id_code = \"A1234\"\n",
        "is_valid = id_code.isalnum()  # Check if ID contains only letters and numbers\n",
        "print(is_valid)  # Output: True\n",
        "\n",
        "phone = \"+9890312811111\"\n",
        "print(phone.isdigit())"
      ]
    },
    {
      "cell_type": "markdown",
      "metadata": {
        "id": "7tKdscNyEyGb"
      },
      "source": [
        "##`format()` – Inserting Variables into Strings\n",
        "\n",
        "When working with datasets, you often need to dynamically create strings with variable values. The `format()` method is helpful for generating custom messages, reports, or labels.\n",
        "\n",
        "`\"Hello, {}. Your score is {}\".format(name, score)`"
      ]
    },
    {
      "cell_type": "code",
      "execution_count": null,
      "metadata": {
        "colab": {
          "base_uri": "https://localhost:8080/"
        },
        "id": "YkwjaBAsE0J9",
        "outputId": "254f9804-c95f-43db-b8e2-4471eb76a08c"
      },
      "outputs": [
        {
          "name": "stdout",
          "output_type": "stream",
          "text": [
            "The column age has 5 missing values.\n",
            "The column age has 5 missing values.\n"
          ]
        }
      ],
      "source": [
        "column_name = \"age\"\n",
        "missing_values = 5\n",
        "message = \"The column {} has {} missing values.\".format(column_name, missing_values)\n",
        "print(message)  # Output: The column 'age' has 5 missing values.\n",
        "message2 = f\"The column {column_name} has {missing_values} missing values.\"\n",
        "print(message2)"
      ]
    },
    {
      "cell_type": "markdown",
      "metadata": {
        "id": "3eCmiS2xndip"
      },
      "source": [
        "# Python Data Structures\n",
        "\n",
        "## 1. Lists\n",
        "\n",
        "### 1.1 What is a List?\n",
        "\n",
        "A list is a collection of items that are ordered, mutable (can be changed), and allow duplicate elements. Lists are one of the most commonly used data structures in Python and are defined using square brackets `[]`.\n"
      ]
    },
    {
      "cell_type": "code",
      "execution_count": null,
      "metadata": {
        "id": "nw4DZ_RcmTRu"
      },
      "outputs": [],
      "source": [
        "numbers = [10, 20, 30, 40, 50]\n",
        "fruits = [\"apple\", \"banana\", \"cherry\"]\n",
        "my_list = ['a', True, 35, [1,2,'a'], numbers]"
      ]
    },
    {
      "cell_type": "code",
      "execution_count": null,
      "metadata": {
        "colab": {
          "base_uri": "https://localhost:8080/"
        },
        "id": "r3TBIuwp5snA",
        "outputId": "f3eefd48-3473-4299-c04f-bbc23ef0a313"
      },
      "outputs": [
        {
          "data": {
            "text/plain": [
              "['a', True, 35, [1, 2, 'a'], [10, 20, 30, 40, 50]]"
            ]
          },
          "execution_count": 7,
          "metadata": {},
          "output_type": "execute_result"
        }
      ],
      "source": [
        "my_list"
      ]
    },
    {
      "cell_type": "markdown",
      "metadata": {
        "id": "hIpIHG2i8Cal"
      },
      "source": [
        "## 1.2 List Indexing\n",
        "\n",
        "Just like strings, you can access individual elements in a list using their index. Python lists use **zero-based indexing**:\n",
        "\n",
        "- **Positive indexing** starts from `0`.\n",
        "- **Negative indexing** starts from `-1` (for accessing elements from the end).\n"
      ]
    },
    {
      "cell_type": "code",
      "execution_count": null,
      "metadata": {
        "id": "RQeqT9kq5t1e"
      },
      "outputs": [],
      "source": [
        "numbers = [10, 20, 30, 40, 50]\n",
        "\n",
        "print(numbers[0])   # Output: 10 (first element)\n",
        "print(numbers[2])   # Output: 30 (third element)\n",
        "print(numbers[-1])  # Output: 50 (last element)\n",
        "print(numbers[-2])  # Output: 40 (second last element)"
      ]
    },
    {
      "cell_type": "markdown",
      "metadata": {
        "id": "vAlI9xF69EnE"
      },
      "source": [
        "### Exercise 002: Help! Extract the Hidden Message!\n",
        "\n",
        "**Scenario:**  \n",
        "You're a Python treasure hunter, and a message has been hidden deep inside a list. Your mission, should you choose to accept it, is to navigate through the twists and turns of the list and extract the secret message!\n",
        "\n",
        "**The List:**  \n",
        "```python\n",
        "my_list = ['a', True, 35, [1, 2, 'a'], [10, 20, ['save me', 40], 'Hi']]\n"
      ]
    },
    {
      "cell_type": "code",
      "execution_count": null,
      "metadata": {
        "colab": {
          "base_uri": "https://localhost:8080/"
        },
        "id": "xSAoj9U38aPK",
        "outputId": "4b5f3498-a80c-4365-f233-dec272fe4871"
      },
      "outputs": [
        {
          "name": "stdout",
          "output_type": "stream",
          "text": [
            "save me\n"
          ]
        }
      ],
      "source": [
        "my_list = ['a', True, 35, [1, 2, 'a'], [10, 20, ['save me', 40], 'Hi']]\n",
        "\n",
        "# Step by step rescue mission\n",
        "message = my_list[4][2][0]  # Extracting the hidden message\n",
        "print(message)  # Output: 'save me'"
      ]
    },
    {
      "cell_type": "markdown",
      "metadata": {
        "id": "lYrrYiSC9dQi"
      },
      "source": [
        "## 1.3 List Slicing\n",
        "\n",
        "You can also access a range of elements from a list using **slicing**. Slicing allows you to extract a part of the list by specifying a start and end index (the end index is exclusive).\n",
        "\n",
        "```python\n",
        "my_list[start:end]\n"
      ]
    },
    {
      "cell_type": "code",
      "execution_count": null,
      "metadata": {
        "colab": {
          "base_uri": "https://localhost:8080/"
        },
        "id": "3Mj5I7hx9cJf",
        "outputId": "125e358a-cb45-4847-cd11-b411494e22e3"
      },
      "outputs": [
        {
          "name": "stdout",
          "output_type": "stream",
          "text": [
            "[20, 'python', 40]\n",
            "[10, 20, 'python']\n",
            "['python', 40, 50, 60, 'a']\n",
            "['python', 50, 'a']\n"
          ]
        }
      ],
      "source": [
        "numbers = [10, 20, 'python', 40, 50, 60, 'a', ]\n",
        "\n",
        "print(numbers[1:4])\n",
        "print(numbers[:3])\n",
        "print(numbers[2:])\n",
        "print(numbers[2::2])"
      ]
    },
    {
      "cell_type": "markdown",
      "metadata": {
        "id": "zF-ADpBj-wfj"
      },
      "source": [
        "## 1.4 List Methods\n",
        "\n",
        "Lists have many built-in methods that allow you to modify and manipulate them. Here are some commonly used methods:\n",
        "\n",
        "1. **`append()`** – Adds an element to the end of the list.\n"
      ]
    },
    {
      "cell_type": "code",
      "execution_count": null,
      "metadata": {
        "colab": {
          "base_uri": "https://localhost:8080/"
        },
        "id": "4IdkauNo9qEP",
        "outputId": "817f7a7e-014d-45c4-a946-04ac280f7a51"
      },
      "outputs": [
        {
          "name": "stdout",
          "output_type": "stream",
          "text": [
            "['apple', 'banana', 'cherry', 'orange']\n"
          ]
        }
      ],
      "source": [
        "fruits = [\"apple\", \"banana\", \"cherry\"]\n",
        "fruits.append(\"orange\")\n",
        "print(fruits)  # Output: ['apple', 'banana', 'cherry', 'orange']"
      ]
    },
    {
      "cell_type": "markdown",
      "metadata": {
        "id": "y5KBdjOQ-6lK"
      },
      "source": [
        "2. **`insert()`** – Inserts an element at a specific position."
      ]
    },
    {
      "cell_type": "code",
      "execution_count": null,
      "metadata": {
        "colab": {
          "base_uri": "https://localhost:8080/"
        },
        "id": "ol9t7x6d-4iK",
        "outputId": "aa7f12a6-c51c-4045-91e4-8de21b0bfe1e"
      },
      "outputs": [
        {
          "name": "stdout",
          "output_type": "stream",
          "text": [
            "['apple', 'kiwi', 'banana', 'cherry']\n"
          ]
        }
      ],
      "source": [
        "fruits = [\"apple\", \"banana\", \"cherry\"]\n",
        "fruits.insert(1, \"kiwi\")\n",
        "print(fruits)  # Output: ['apple', 'kiwi', 'banana', 'cherry']"
      ]
    },
    {
      "cell_type": "markdown",
      "metadata": {
        "id": "ORDftJi4_BKK"
      },
      "source": [
        "3. **`pop()`** – Removes and returns an element at a given index (default is the last element).\n"
      ]
    },
    {
      "cell_type": "code",
      "execution_count": null,
      "metadata": {
        "colab": {
          "base_uri": "https://localhost:8080/"
        },
        "id": "uVtpVkM6-9IR",
        "outputId": "f44e6336-e837-4a8e-bd8f-a6a1fda7ca42"
      },
      "outputs": [
        {
          "name": "stdout",
          "output_type": "stream",
          "text": [
            "['apple', 'cherry']\n"
          ]
        }
      ],
      "source": [
        "fruits = [\"apple\", \"banana\", \"cherry\"]\n",
        "fruits.pop(1)\n",
        "print(fruits)  # Output: ['apple', 'cherry'] (removes \"banana\")"
      ]
    },
    {
      "cell_type": "markdown",
      "metadata": {
        "id": "gwZ7p0LS_FSy"
      },
      "source": [
        "4. **`remove()`** – Removes the first occurrence of an element.\n"
      ]
    },
    {
      "cell_type": "code",
      "execution_count": null,
      "metadata": {
        "colab": {
          "base_uri": "https://localhost:8080/"
        },
        "id": "Ca_rF6ye_D39",
        "outputId": "33c28ffd-00f2-41ea-8de3-b6b134619fe4"
      },
      "outputs": [
        {
          "name": "stdout",
          "output_type": "stream",
          "text": [
            "['apple', 'cherry', 'banana']\n"
          ]
        }
      ],
      "source": [
        "fruits = [\"apple\", \"banana\", \"cherry\", \"banana\"]\n",
        "fruits.remove(\"banana\")\n",
        "print(fruits)  # Output: ['apple', 'cherry', 'banana'] (removes the first \"banana\")"
      ]
    },
    {
      "cell_type": "code",
      "execution_count": null,
      "metadata": {
        "colab": {
          "base_uri": "https://localhost:8080/"
        },
        "id": "Lm0LSs0Z_LCw",
        "outputId": "7d7e5925-ee1e-4983-ff81-92f83bd7e26b"
      },
      "outputs": [
        {
          "name": "stdout",
          "output_type": "stream",
          "text": [
            "['apple', 'cherry']\n"
          ]
        }
      ],
      "source": [
        "fruits.remove(\"banana\")\n",
        "print(fruits)"
      ]
    },
    {
      "cell_type": "markdown",
      "metadata": {
        "id": "DaZe9Mww_RAq"
      },
      "source": [
        "5. **`sort()`** – Sorts the list in place (ascending order by default).\n"
      ]
    },
    {
      "cell_type": "code",
      "execution_count": null,
      "metadata": {
        "colab": {
          "base_uri": "https://localhost:8080/"
        },
        "id": "pfYFpIy7_NFW",
        "outputId": "d23c75ca-fd89-45e1-bc9d-c2625451779b"
      },
      "outputs": [
        {
          "name": "stdout",
          "output_type": "stream",
          "text": [
            "[10, 20, 30, 40, 50]\n"
          ]
        }
      ],
      "source": [
        "numbers = [30, 10, 50, 20, 40]\n",
        "numbers.sort()\n",
        "print(numbers)  # Output: [10, 20, 30, 40, 50]"
      ]
    },
    {
      "cell_type": "code",
      "execution_count": null,
      "metadata": {
        "colab": {
          "base_uri": "https://localhost:8080/"
        },
        "id": "65t1RAwg_UiS",
        "outputId": "6c753c33-47f5-46d8-b873-cca5dd887f85"
      },
      "outputs": [
        {
          "name": "stdout",
          "output_type": "stream",
          "text": [
            "[50, 40, 30, 20, 10]\n"
          ]
        }
      ],
      "source": [
        "numbers = [30, 10, 50, 20, 40]\n",
        "numbers.sort(reverse=True)\n",
        "print(numbers)"
      ]
    },
    {
      "cell_type": "markdown",
      "metadata": {
        "id": "Y6nBoVm2_noi"
      },
      "source": [
        "6. **`reverse()`** – Reverses the list in place.\n"
      ]
    },
    {
      "cell_type": "code",
      "execution_count": null,
      "metadata": {
        "colab": {
          "base_uri": "https://localhost:8080/"
        },
        "id": "QEULGwcq_g2d",
        "outputId": "75da6f5f-ceda-4413-d2d1-c76d4a9c23a6"
      },
      "outputs": [
        {
          "name": "stdout",
          "output_type": "stream",
          "text": [
            "['cherry', 'banana', 'melon', 'apple']\n"
          ]
        }
      ],
      "source": [
        "fruits = [\"apple\", \"melon\", \"banana\", \"cherry\"]\n",
        "fruits.reverse()\n",
        "print(fruits)  # Output: ['cherry', 'banana', 'apple']\n"
      ]
    },
    {
      "cell_type": "markdown",
      "metadata": {
        "id": "9vrxnrJuB1l6"
      },
      "source": [
        "## 1.5 Split Method"
      ]
    },
    {
      "cell_type": "markdown",
      "metadata": {
        "id": "dywFQSynGAFD"
      },
      "source": [
        "The `split()` method in Python is used to divide a string into a list of substrings based on a specified delimiter. If no delimiter is provided, it defaults to splitting by spaces.\n",
        "\n",
        "```python\n",
        "string.split(separator, maxsplit)\n"
      ]
    },
    {
      "cell_type": "markdown",
      "metadata": {
        "id": "MYLcjttf-NS3"
      },
      "source": [
        "- separator (optional): The delimiter by which to split the string. By default, it splits on any whitespace (spaces, tabs, newlines).\n",
        "- maxsplit (optional): The maximum number of splits to perform. If not provided, the string is split at every occurrence of the separator."
      ]
    },
    {
      "cell_type": "code",
      "execution_count": null,
      "metadata": {
        "colab": {
          "base_uri": "https://localhost:8080/"
        },
        "id": "jQtQmjHa_ze7",
        "outputId": "f5e4db15-37ea-4d36-8e16-6da20521f220"
      },
      "outputs": [
        {
          "name": "stdout",
          "output_type": "stream",
          "text": [
            "['Python', 'is', 'fun']\n"
          ]
        }
      ],
      "source": [
        "# Split by Spaces (Default Behavior)\n",
        "text = \"Python is fun\"\n",
        "words = text.split()  # Default split on whitespace\n",
        "print(words)"
      ]
    },
    {
      "cell_type": "code",
      "execution_count": null,
      "metadata": {
        "id": "zarunRoxGLnL"
      },
      "outputs": [],
      "source": [
        "# Split by a Specific Character (Comma)\n",
        "csv = \"apple,banana,cherry\"\n",
        "fruits = csv.split(\",\")  # Split using a comma as the separator\n",
        "print(fruits)"
      ]
    },
    {
      "cell_type": "code",
      "execution_count": null,
      "metadata": {
        "id": "6eamnQD7GPB4"
      },
      "outputs": [],
      "source": [
        "#  Limiting the Number of Splits\n",
        "sentence = \"Python is fun and easy\"\n",
        "result = sentence.split(\" \", 2)  # Split on space, but only perform 2 splits\n",
        "print(result)"
      ]
    },
    {
      "cell_type": "code",
      "execution_count": null,
      "metadata": {
        "id": "XG3gDIuJGshe"
      },
      "outputs": [],
      "source": [
        "data = \"25, John Doe, New York, USA\"\n",
        "age, name, city, country = data.split(\", \")  # Splitting by comma and space\n",
        "print(f\"Age: {age}, Name: {name}, City: {city}, Country: {country}\")\n"
      ]
    },
    {
      "cell_type": "code",
      "execution_count": null,
      "metadata": {
        "colab": {
          "base_uri": "https://localhost:8080/"
        },
        "id": "d0oYVpsNG309",
        "outputId": "01ef1ee2-4bcb-4e1d-e6b2-20bc55d50b27"
      },
      "outputs": [
        {
          "name": "stdout",
          "output_type": "stream",
          "text": [
            "Cleaned Sentence: 'Python is fun!'\n"
          ]
        }
      ],
      "source": [
        "sentence = \"  Python   is    fun!   \"\n",
        "cleaned_sentence = \" \".join(sentence.split())  # Splitting and then joining to remove extra spaces\n",
        "print(f\"Cleaned Sentence: '{cleaned_sentence}'\")\n"
      ]
    },
    {
      "cell_type": "markdown",
      "metadata": {
        "id": "st1KKtk1KoPY"
      },
      "source": [
        "## Exercise 003: Split and Count Words\n",
        "\n",
        "Write a Python program that takes a sentence as input, splits it into individual words, and prints how many words the sentence contains.\n"
      ]
    },
    {
      "cell_type": "code",
      "execution_count": null,
      "metadata": {
        "colab": {
          "base_uri": "https://localhost:8080/"
        },
        "id": "Pt6e9bOXKzBR",
        "outputId": "f2eede62-e928-4104-e889-bcf87a1fccf2"
      },
      "outputs": [
        {
          "name": "stdout",
          "output_type": "stream",
          "text": [
            " number of words: 6\n"
          ]
        }
      ],
      "source": [
        "sentence = \"Python is great for data science\"\n",
        "print(f\" number of words: {len(sentence.split())}\")"
      ]
    },
    {
      "cell_type": "markdown",
      "metadata": {
        "id": "7bjbZ1ko44s2"
      },
      "source": [
        "## 2. Tuples\n",
        "\n",
        "### 2.1 What is a Tuple?\n",
        "\n",
        "Tuples are created by placing elements inside parentheses `()`, separated by commas.\n",
        "\n",
        "**Key Features:**\n",
        "- **Immutable**: Once a tuple is created, you can’t modify it.\n",
        "- **Ordered**: Tuples maintain the order of elements, just like lists.\n",
        "- **Can Contain Mixed Data Types**: Tuples can hold integers, strings, floats, and even other tuples!\n"
      ]
    },
    {
      "cell_type": "code",
      "execution_count": null,
      "metadata": {
        "id": "rLCTXmRoK5En"
      },
      "outputs": [],
      "source": [
        " my_tuple = (10, 20, 30, \"Python\", True)\n",
        "print(my_tuple)  # Output: (10, 20, 30, 'Python', True)\n"
      ]
    },
    {
      "cell_type": "code",
      "execution_count": null,
      "metadata": {
        "colab": {
          "base_uri": "https://localhost:8080/"
        },
        "id": "826RrhiO5m0I",
        "outputId": "b8b5161e-0536-4773-ebe7-9174ec3d6972"
      },
      "outputs": [
        {
          "name": "stdout",
          "output_type": "stream",
          "text": [
            "(1, 2, 3)\n"
          ]
        }
      ],
      "source": [
        "another_tuple = 1, 2, 3\n",
        "print(another_tuple)  # Output: (1, 2, 3)\n"
      ]
    },
    {
      "cell_type": "code",
      "execution_count": null,
      "metadata": {
        "colab": {
          "base_uri": "https://localhost:8080/",
          "height": 176
        },
        "id": "tKYZpNoZ6Vlw",
        "outputId": "063b216f-7df0-45b6-eb8d-997f94309fdc"
      },
      "outputs": [
        {
          "ename": "TypeError",
          "evalue": "'tuple' object does not support item assignment",
          "output_type": "error",
          "traceback": [
            "\u001b[0;31m---------------------------------------------------------------------------\u001b[0m",
            "\u001b[0;31mTypeError\u001b[0m                                 Traceback (most recent call last)",
            "\u001b[0;32m<ipython-input-4-b1d426962a04>\u001b[0m in \u001b[0;36m<cell line: 3>\u001b[0;34m()\u001b[0m\n\u001b[1;32m      1\u001b[0m \u001b[0;31m# Immutability in Action\u001b[0m\u001b[0;34m\u001b[0m\u001b[0;34m\u001b[0m\u001b[0m\n\u001b[1;32m      2\u001b[0m \u001b[0mmy_tuple\u001b[0m \u001b[0;34m=\u001b[0m \u001b[0;34m(\u001b[0m\u001b[0;36m1\u001b[0m\u001b[0;34m,\u001b[0m \u001b[0;36m2\u001b[0m\u001b[0;34m,\u001b[0m \u001b[0;36m3\u001b[0m\u001b[0;34m)\u001b[0m\u001b[0;34m\u001b[0m\u001b[0;34m\u001b[0m\u001b[0m\n\u001b[0;32m----> 3\u001b[0;31m \u001b[0mmy_tuple\u001b[0m\u001b[0;34m[\u001b[0m\u001b[0;36m0\u001b[0m\u001b[0;34m]\u001b[0m \u001b[0;34m=\u001b[0m \u001b[0;36m10\u001b[0m  \u001b[0;31m# Error! TypeError: 'tuple' object does not support item assignment\u001b[0m\u001b[0;34m\u001b[0m\u001b[0;34m\u001b[0m\u001b[0m\n\u001b[0m",
            "\u001b[0;31mTypeError\u001b[0m: 'tuple' object does not support item assignment"
          ]
        }
      ],
      "source": [
        "# Immutability in Action\n",
        "my_tuple = (1, 2, 3)\n",
        "my_tuple[0] = 10  # Error! TypeError: 'tuple' object does not support item assignment"
      ]
    },
    {
      "cell_type": "code",
      "execution_count": null,
      "metadata": {
        "colab": {
          "base_uri": "https://localhost:8080/"
        },
        "id": "xThGUFHf58kG",
        "outputId": "aec7a163-a412-4166-dfeb-cb1adc6597f9"
      },
      "outputs": [
        {
          "name": "stdout",
          "output_type": "stream",
          "text": [
            "banana\n"
          ]
        }
      ],
      "source": [
        "# Indexing\n",
        "tuple_example = (\"apple\", \"banana\", \"cherry\", \"date\")\n",
        "print(tuple_example[1])  # Output: banana\n"
      ]
    },
    {
      "cell_type": "markdown",
      "metadata": {
        "id": "WX-whLba6Mu8"
      },
      "source": [
        "### 2.2 Tuple Methods\n",
        "\n",
        "Although tuples don’t have as many methods as lists (since they are immutable), there are a couple of useful methods:\n",
        "\n",
        "- **`count()`** – Counts how many times a value appears in the tuple.\n",
        "- **`index()`** – Returns the index of the first occurrence of a value.\n"
      ]
    },
    {
      "cell_type": "code",
      "execution_count": null,
      "metadata": {
        "colab": {
          "base_uri": "https://localhost:8080/"
        },
        "id": "B0da6_j36EqK",
        "outputId": "4f34f20d-223f-42df-e89a-552b91f3e056"
      },
      "outputs": [
        {
          "name": "stdout",
          "output_type": "stream",
          "text": [
            "2\n",
            "0\n"
          ]
        }
      ],
      "source": [
        "fruits = (\"apple\", \"banana\", \"cherry\", \"apple\", \"date\")\n",
        "apple_count = fruits.count(\"apple\")\n",
        "print(apple_count)  # Output: 2\n",
        "\n",
        "apple_index = fruits.index(\"apple\")\n",
        "print(apple_index)  # Output: 0\n"
      ]
    },
    {
      "cell_type": "markdown",
      "metadata": {
        "id": "OFUxUBr96lEG"
      },
      "source": [
        "### 2.3 Tuple Packing and Unpacking\n"
      ]
    },
    {
      "cell_type": "code",
      "execution_count": null,
      "metadata": {
        "colab": {
          "base_uri": "https://localhost:8080/"
        },
        "id": "qkYW15w86RwU",
        "outputId": "9b9b82ee-f95c-4e20-f9b3-964f240a5c29"
      },
      "outputs": [
        {
          "name": "stdout",
          "output_type": "stream",
          "text": [
            "('Spiderman', 'Iron Man', 'Thor')\n"
          ]
        }
      ],
      "source": [
        "hero_tuple = \"Spiderman\", \"Iron Man\", \"Thor\"  # Packing multiple values into a tuple\n",
        "print(hero_tuple)  # Output: ('Spiderman', 'Iron Man', 'Thor')\n"
      ]
    },
    {
      "cell_type": "code",
      "execution_count": null,
      "metadata": {
        "colab": {
          "base_uri": "https://localhost:8080/"
        },
        "id": "s5zZBMbC6rAI",
        "outputId": "8d8b6e67-42e8-446f-a8be-732044dbd56f"
      },
      "outputs": [
        {
          "name": "stdout",
          "output_type": "stream",
          "text": [
            "Spiderman\n",
            "Iron Man\n",
            "Thor\n"
          ]
        }
      ],
      "source": [
        "hero1, hero2, hero3 = hero_tuple  # Unpacking tuple into variables\n",
        "print(hero1)  # Output: Spiderman\n",
        "print(hero2)  # Output: Iron Man\n",
        "print(hero3)  # Output: Thor\n"
      ]
    },
    {
      "cell_type": "markdown",
      "metadata": {
        "id": "0g3KNB9bNCVM"
      },
      "source": [
        "# 3. Dictionary\n",
        "\n",
        "## 3.1 Definition\n",
        "\n",
        "A dictionary in Python is a collection of key-value pairs. Each key is associated with a specific value, and together, they form an item in the dictionary. Unlike lists or tuples, which store values based on their position (index), dictionaries store values based on unique keys.\n",
        "\n",
        "Dictionaries are highly efficient for lookup operations, making them ideal for scenarios where you need to associate related data, like a name with an age or an ID with a product description.\n",
        "\n",
        "- **Keys** must be unique and immutable (e.g., strings, numbers, tuples).\n",
        "- **Values** can be of any data type and can be duplicated."
      ]
    },
    {
      "cell_type": "code",
      "execution_count": null,
      "metadata": {
        "colab": {
          "base_uri": "https://localhost:8080/"
        },
        "id": "UTsOVi0mNB25",
        "outputId": "f5d103aa-e0ac-4ed5-a3ad-a4508da385c2"
      },
      "outputs": [
        {
          "name": "stdout",
          "output_type": "stream",
          "text": [
            "{'name': 'Milad', 'age': 27, 'profession': 'Data Scientist'}\n"
          ]
        }
      ],
      "source": [
        "person_1 = {\n",
        "    \"name\": \"Milad\",\n",
        "    \"age\": 27,\n",
        "    \"profession\": \"Data Scientist\"\n",
        "}\n",
        "print(person_1)"
      ]
    },
    {
      "cell_type": "code",
      "execution_count": null,
      "metadata": {
        "colab": {
          "base_uri": "https://localhost:8080/"
        },
        "id": "EMpG84rlOv34",
        "outputId": "e8de3d43-9dba-46da-e6a1-8c4fb2110896"
      },
      "outputs": [
        {
          "name": "stdout",
          "output_type": "stream",
          "text": [
            "{'name': 'Alice', 'age': 25, 'profession': 'ML engineer'}\n"
          ]
        }
      ],
      "source": [
        "person_2 = {\n",
        "    \"name\": \"Alice\",\n",
        "    \"age\": 25,\n",
        "    \"profession\": \"ML engineer\"\n",
        "}\n",
        "print(person_2)"
      ]
    },
    {
      "cell_type": "code",
      "execution_count": null,
      "metadata": {
        "id": "Pr_AbYeBO3Rg"
      },
      "outputs": [],
      "source": [
        "my_hr = {'id_01':person_1, 'id_02':person_2}"
      ]
    },
    {
      "cell_type": "code",
      "execution_count": null,
      "metadata": {
        "colab": {
          "base_uri": "https://localhost:8080/"
        },
        "id": "zvH1ZntUO_oP",
        "outputId": "c0e565bf-167f-4955-9b98-ba8e659d8acd"
      },
      "outputs": [
        {
          "data": {
            "text/plain": [
              "{'id_01': {'name': 'Milad', 'age': 27, 'profession': 'Data Scientist'},\n",
              " 'id_02': {'name': 'Alice', 'age': 25, 'profession': 'ML engineer'}}"
            ]
          },
          "execution_count": 8,
          "metadata": {},
          "output_type": "execute_result"
        }
      ],
      "source": [
        "my_hr"
      ]
    },
    {
      "cell_type": "code",
      "execution_count": null,
      "metadata": {
        "colab": {
          "base_uri": "https://localhost:8080/",
          "height": 147
        },
        "id": "0koVAPkaVVIi",
        "outputId": "8d7e5f24-07de-4b58-a009-eabb8156493d"
      },
      "outputs": [
        {
          "ename": "TypeError",
          "evalue": "unhashable type: 'list'",
          "output_type": "error",
          "traceback": [
            "\u001b[0;31m---------------------------------------------------------------------------\u001b[0m",
            "\u001b[0;31mTypeError\u001b[0m                                 Traceback (most recent call last)",
            "\u001b[0;32m<ipython-input-16-85e109909013>\u001b[0m in \u001b[0;36m<cell line: 1>\u001b[0;34m()\u001b[0m\n\u001b[0;32m----> 1\u001b[0;31m \u001b[0mmy_dict\u001b[0m \u001b[0;34m=\u001b[0m \u001b[0;34m{\u001b[0m\u001b[0;34m[\u001b[0m\u001b[0;36m1\u001b[0m\u001b[0;34m,\u001b[0m\u001b[0;36m2\u001b[0m\u001b[0;34m,\u001b[0m\u001b[0;36m3\u001b[0m\u001b[0;34m]\u001b[0m\u001b[0;34m:\u001b[0m\u001b[0;34m'hi'\u001b[0m\u001b[0;34m}\u001b[0m\u001b[0;34m\u001b[0m\u001b[0;34m\u001b[0m\u001b[0m\n\u001b[0m",
            "\u001b[0;31mTypeError\u001b[0m: unhashable type: 'list'"
          ]
        }
      ],
      "source": [
        "my_dict = {[1,2,3]:'hi'}\n"
      ]
    },
    {
      "cell_type": "code",
      "execution_count": null,
      "metadata": {
        "id": "omYWAT2TVj9i"
      },
      "outputs": [],
      "source": [
        "my_dict_2 = {(1,2,3):'hi'}"
      ]
    },
    {
      "cell_type": "markdown",
      "metadata": {
        "id": "kH9WBVYKPui_"
      },
      "source": [
        "### 3.1.1 Accessing Values\n",
        "\n",
        "You can access the values in a dictionary by referencing their keys. The syntax for accessing a value is:\n",
        "\n",
        "```python\n",
        "value = my_dict[key]\n",
        "\n"
      ]
    },
    {
      "cell_type": "code",
      "execution_count": null,
      "metadata": {
        "colab": {
          "base_uri": "https://localhost:8080/",
          "height": 36
        },
        "id": "ncTp258uPYIj",
        "outputId": "edc2beba-3b68-4335-81e8-d58eabf27a70"
      },
      "outputs": [
        {
          "data": {
            "application/vnd.google.colaboratory.intrinsic+json": {
              "type": "string"
            },
            "text/plain": [
              "'Milad'"
            ]
          },
          "execution_count": 9,
          "metadata": {},
          "output_type": "execute_result"
        }
      ],
      "source": [
        "person_1['name']"
      ]
    },
    {
      "cell_type": "code",
      "execution_count": null,
      "metadata": {
        "colab": {
          "base_uri": "https://localhost:8080/",
          "height": 36
        },
        "id": "lfe5MXuaQA1d",
        "outputId": "1ee2af20-8d53-4c9a-b29c-fecc636b8749"
      },
      "outputs": [
        {
          "data": {
            "application/vnd.google.colaboratory.intrinsic+json": {
              "type": "string"
            },
            "text/plain": [
              "'Milad'"
            ]
          },
          "execution_count": 11,
          "metadata": {},
          "output_type": "execute_result"
        }
      ],
      "source": [
        "my_hr['id_01']['name']"
      ]
    },
    {
      "cell_type": "markdown",
      "metadata": {
        "id": "vxpbiIxyQTr4"
      },
      "source": [
        "### 3.1.2 Modifying Values\n",
        "\n",
        "You can change the value associated with a key by reassigning it. The syntax for modifying a value is:\n",
        "\n",
        "```python\n",
        "my_dict[key] = new_value\n",
        "\n"
      ]
    },
    {
      "cell_type": "code",
      "execution_count": null,
      "metadata": {
        "colab": {
          "base_uri": "https://localhost:8080/"
        },
        "id": "Xdk7a7pRQWj5",
        "outputId": "49a951ea-3522-4218-9fab-98b55e7311d3"
      },
      "outputs": [
        {
          "name": "stdout",
          "output_type": "stream",
          "text": [
            "{'name': 'Milad', 'age': 31, 'profession': 'Data Scientist'}\n"
          ]
        }
      ],
      "source": [
        "person_1[\"age\"] = 31\n",
        "print(person_1)"
      ]
    },
    {
      "cell_type": "markdown",
      "metadata": {
        "id": "Xbpby9a6QyC1"
      },
      "source": [
        "### 3.1.3 Adding New Key-Value Pairs\n",
        "\n",
        "To add a new key-value pair to a dictionary, simply assign a value to a new key. If the key does not already exist in the dictionary, it will be created with the specified value.\n",
        "\n",
        "#### Syntax:\n",
        "```python\n",
        "my_dict[new_key] = new_value\n"
      ]
    },
    {
      "cell_type": "code",
      "execution_count": null,
      "metadata": {
        "id": "0rMTHln5QiAi"
      },
      "outputs": [],
      "source": [
        "person_1[\"city\"] = \"Ahvaz\""
      ]
    },
    {
      "cell_type": "code",
      "execution_count": null,
      "metadata": {
        "colab": {
          "base_uri": "https://localhost:8080/"
        },
        "id": "qUVov0eIQh8F",
        "outputId": "ed61e2a1-3dd0-4276-8fe8-240374892f29"
      },
      "outputs": [
        {
          "data": {
            "text/plain": [
              "{'name': 'Milad', 'age': 31, 'profession': 'Data Scientist', 'city': 'Ahvaz'}"
            ]
          },
          "execution_count": 15,
          "metadata": {},
          "output_type": "execute_result"
        }
      ],
      "source": [
        "person_1"
      ]
    },
    {
      "cell_type": "markdown",
      "metadata": {
        "id": "X0_AD5e0UvZn"
      },
      "source": [
        "## Exercise 004:\n",
        "\n",
        "Create a dictionary called `mixed_data` that stores the following:\n",
        "\n",
        "- A key **\"names\"** with a value of a list of three names.\n",
        "- A key **\"ages\"** with a value of a tuple containing three ages.\n",
        "- A key **\"scores\"** with a value of a dictionary of subject scores: **\"math\": 90**, **\"science\": 85**, **\"english\": 88**.\n",
        "\n",
        "Then, print out the value of **\"scores\"** from the dictionary."
      ]
    },
    {
      "cell_type": "code",
      "execution_count": null,
      "metadata": {
        "colab": {
          "base_uri": "https://localhost:8080/"
        },
        "id": "nJtLABQjQhyL",
        "outputId": "8813a4ea-af52-4dd7-b5c5-dac48762a8db"
      },
      "outputs": [
        {
          "name": "stdout",
          "output_type": "stream",
          "text": [
            "{'math': 90, 'science': 85, 'english': 88}\n"
          ]
        }
      ],
      "source": [
        "mixed_data = {\n",
        "    \"names\": [\"Alice\", \"Bob\", \"Charlie\"],\n",
        "    \"ages\": (24, 30, 28),\n",
        "    \"scores\": {\n",
        "        \"math\": 90,\n",
        "        \"science\": 85,\n",
        "        \"english\": 88\n",
        "    }\n",
        "}\n",
        "\n",
        "# Print the value of the key \"scores\"\n",
        "print(mixed_data[\"scores\"])"
      ]
    },
    {
      "cell_type": "markdown",
      "metadata": {
        "id": "JeFaYv4EW3gL"
      },
      "source": [
        "## 3.2 Common Dictionary Methods\n",
        "\n",
        "### 1. `get()` – Safely Access a Value\n",
        "\n",
        "The `get()` method is used to access the value associated with a specified key in a dictionary. If the key doesn’t exist, `get()` returns `None` (or a default value if specified), preventing errors that would occur if using square brackets.\n",
        "\n",
        "### Syntax:\n",
        "```python\n",
        "dictionary.get(key, default_value)\n"
      ]
    },
    {
      "cell_type": "code",
      "execution_count": null,
      "metadata": {
        "colab": {
          "base_uri": "https://localhost:8080/"
        },
        "id": "6cz0kT74XKTC",
        "outputId": "baeec03e-fd2b-477e-ec84-5a05dee1f464"
      },
      "outputs": [
        {
          "data": {
            "text/plain": [
              "{'name': 'Alice', 'age': 25, 'profession': 'ML engineer'}"
            ]
          },
          "execution_count": 22,
          "metadata": {},
          "output_type": "execute_result"
        }
      ],
      "source": [
        "person_2"
      ]
    },
    {
      "cell_type": "code",
      "execution_count": null,
      "metadata": {
        "colab": {
          "base_uri": "https://localhost:8080/",
          "height": 147
        },
        "id": "xRMQfR0rXMRj",
        "outputId": "30fa945d-129d-4599-f16e-c1e140155feb"
      },
      "outputs": [
        {
          "ename": "KeyError",
          "evalue": "'city'",
          "output_type": "error",
          "traceback": [
            "\u001b[0;31m---------------------------------------------------------------------------\u001b[0m",
            "\u001b[0;31mKeyError\u001b[0m                                  Traceback (most recent call last)",
            "\u001b[0;32m<ipython-input-23-0b4d1923fb82>\u001b[0m in \u001b[0;36m<cell line: 1>\u001b[0;34m()\u001b[0m\n\u001b[0;32m----> 1\u001b[0;31m \u001b[0mperson_2\u001b[0m\u001b[0;34m[\u001b[0m\u001b[0;34m'city'\u001b[0m\u001b[0;34m]\u001b[0m\u001b[0;34m\u001b[0m\u001b[0;34m\u001b[0m\u001b[0m\n\u001b[0m",
            "\u001b[0;31mKeyError\u001b[0m: 'city'"
          ]
        }
      ],
      "source": [
        "person_2['city']"
      ]
    },
    {
      "cell_type": "code",
      "execution_count": null,
      "metadata": {
        "colab": {
          "base_uri": "https://localhost:8080/"
        },
        "id": "IrAU4kqIXQMh",
        "outputId": "ad898cb3-b77d-4bd8-f1c7-ea1d4d545ee3"
      },
      "outputs": [
        {
          "name": "stdout",
          "output_type": "stream",
          "text": [
            "None\n"
          ]
        }
      ],
      "source": [
        "print(person_2.get('cit'))"
      ]
    },
    {
      "cell_type": "code",
      "execution_count": null,
      "metadata": {
        "colab": {
          "base_uri": "https://localhost:8080/"
        },
        "id": "cNCbx1tVWygS",
        "outputId": "a66fb52d-4013-497f-b168-f4b55efa8ea4"
      },
      "outputs": [
        {
          "name": "stdout",
          "output_type": "stream",
          "text": [
            "Unknown\n"
          ]
        }
      ],
      "source": [
        "city = person_2.get(\"city\", \"Unknown\")\n",
        "print(city)  # Output: Unknown\n"
      ]
    },
    {
      "cell_type": "markdown",
      "metadata": {
        "id": "YG-Cnn78XYGM"
      },
      "source": [
        "### 2. `keys()` – Get All Keys\n",
        "\n",
        "The `keys()` method returns a view object that displays a list of all the keys in the dictionary. This view can be iterated over or converted into a list.\n",
        "\n",
        "### Syntax:\n",
        "```python\n",
        "dictionary.keys()\n"
      ]
    },
    {
      "cell_type": "code",
      "execution_count": null,
      "metadata": {
        "colab": {
          "base_uri": "https://localhost:8080/"
        },
        "id": "b8Mde2eCW1vI",
        "outputId": "36264891-2fa4-4be8-88ec-442cab1322f1"
      },
      "outputs": [
        {
          "name": "stdout",
          "output_type": "stream",
          "text": [
            "dict_keys(['name', 'age', 'profession', 'city'])\n"
          ]
        }
      ],
      "source": [
        "keys = person_1.keys()\n",
        "print(keys)"
      ]
    },
    {
      "cell_type": "markdown",
      "metadata": {
        "id": "mHjlo4lY97U7"
      },
      "source": [
        "### 3. `values()` – Get All Values\n",
        "\n",
        "The `values()` method returns a view object containing all the values in the dictionary. Similar to `keys()`, this view can be iterated over or converted into a list.\n",
        "\n",
        "### Syntax:\n",
        "```python\n",
        "dictionary.values()\n"
      ]
    },
    {
      "cell_type": "code",
      "execution_count": null,
      "metadata": {
        "colab": {
          "base_uri": "https://localhost:8080/"
        },
        "id": "PLJcLQvcXgjr",
        "outputId": "637f3991-2996-4808-a3ae-95c1ea20e353"
      },
      "outputs": [
        {
          "name": "stdout",
          "output_type": "stream",
          "text": [
            "dict_values(['Milad', 31, 'Data Scientist', 'Ahvaz'])\n"
          ]
        }
      ],
      "source": [
        "values = person_1.values()\n",
        "print(values)\n"
      ]
    },
    {
      "cell_type": "markdown",
      "metadata": {
        "id": "s2OThd5tX030"
      },
      "source": [
        "### 4. `items()` – Get All Key-Value Pairs\n",
        "\n",
        "The `items()` method returns a view object containing a list of tuples, where each tuple is a key-value pair from the dictionary. This view can be iterated over or converted into a list.\n",
        "\n",
        "### Syntax:\n",
        "```python\n",
        "dictionary.items()\n"
      ]
    },
    {
      "cell_type": "code",
      "execution_count": null,
      "metadata": {
        "colab": {
          "base_uri": "https://localhost:8080/"
        },
        "id": "M4If3qZcX3ej",
        "outputId": "afca5817-aa0d-46b8-bfa0-01ca52d1ca77"
      },
      "outputs": [
        {
          "name": "stdout",
          "output_type": "stream",
          "text": [
            "dict_items([('name', 'Milad'), ('age', 31), ('profession', 'Data Scientist'), ('city', 'Ahvaz')])\n"
          ]
        }
      ],
      "source": [
        "items = person_1.items()\n",
        "print(items)\n"
      ]
    },
    {
      "cell_type": "markdown",
      "metadata": {
        "id": "pgCkHD5DX-SK"
      },
      "source": [
        "### 5. `update()` – Update with Another Dictionary\n",
        "\n",
        "The `update()` method allows you to add key-value pairs from another dictionary to the existing dictionary. If a key already exists, its value will be updated.\n",
        "\n",
        "### Syntax:\n",
        "```python\n",
        "dictionary.update(other_dictionary)\n"
      ]
    },
    {
      "cell_type": "code",
      "execution_count": null,
      "metadata": {
        "colab": {
          "base_uri": "https://localhost:8080/"
        },
        "id": "blOy1tkYX5Lt",
        "outputId": "1144fa2b-2a6e-49c6-a49e-03299a72492b"
      },
      "outputs": [
        {
          "name": "stdout",
          "output_type": "stream",
          "text": [
            "{'name': 'Alice', 'age': 25, 'profession': 'ML engineer', 'hobby': 'chess', 'city': 'Boston'}\n"
          ]
        }
      ],
      "source": [
        "additional_info = {\"hobby\": \"chess\", \"city\": \"Boston\"}\n",
        "person_2.update(additional_info)\n",
        "print(person_2)\n"
      ]
    },
    {
      "cell_type": "markdown",
      "metadata": {
        "id": "gdsYlbS84uEC"
      },
      "source": [
        "# 4. Set\n",
        "\n",
        "## Overview\n",
        "\n",
        "- A **set** is an unordered collection of unique elements.\n",
        "- **Duplicates** are not allowed in sets.\n",
        "- Sets are **mutable**, meaning you can add or remove elements after a set is created.\n",
        "- Unlike lists or tuples, **sets do not maintain order**, so the elements can appear in any sequence.\n",
        "- Sets can be created using curly braces `{}` or the `set()` function."
      ]
    },
    {
      "cell_type": "code",
      "execution_count": null,
      "metadata": {
        "colab": {
          "base_uri": "https://localhost:8080/"
        },
        "id": "xGDCCIiCYEB5",
        "outputId": "5f0df2bb-a676-43d6-e9a8-53fa97781bfa"
      },
      "outputs": [
        {
          "name": "stdout",
          "output_type": "stream",
          "text": [
            "{1, 3, 'a', 4}\n"
          ]
        }
      ],
      "source": [
        "my_set = {1, 'a', 3, 4}\n",
        "print(my_set)"
      ]
    },
    {
      "cell_type": "code",
      "execution_count": null,
      "metadata": {
        "colab": {
          "base_uri": "https://localhost:8080/",
          "height": 147
        },
        "id": "f_CHKj_qBpWp",
        "outputId": "fc440976-2b62-4ecc-d9d2-15e0fc9200d1"
      },
      "outputs": [
        {
          "ename": "TypeError",
          "evalue": "'set' object is not subscriptable",
          "output_type": "error",
          "traceback": [
            "\u001b[0;31m---------------------------------------------------------------------------\u001b[0m",
            "\u001b[0;31mTypeError\u001b[0m                                 Traceback (most recent call last)",
            "\u001b[0;32m<ipython-input-9-158c424478a1>\u001b[0m in \u001b[0;36m<cell line: 1>\u001b[0;34m()\u001b[0m\n\u001b[0;32m----> 1\u001b[0;31m \u001b[0mmy_set\u001b[0m\u001b[0;34m[\u001b[0m\u001b[0;36m0\u001b[0m\u001b[0;34m]\u001b[0m\u001b[0;34m\u001b[0m\u001b[0;34m\u001b[0m\u001b[0m\n\u001b[0m",
            "\u001b[0;31mTypeError\u001b[0m: 'set' object is not subscriptable"
          ]
        }
      ],
      "source": [
        "my_set[0]"
      ]
    },
    {
      "cell_type": "code",
      "execution_count": null,
      "metadata": {
        "colab": {
          "base_uri": "https://localhost:8080/"
        },
        "id": "RgJNreca5pjI",
        "outputId": "f98fa48d-d76e-4bb4-e9fd-e901919b6594"
      },
      "outputs": [
        {
          "name": "stdout",
          "output_type": "stream",
          "text": [
            "{1, 2, 3, 4}\n"
          ]
        }
      ],
      "source": [
        "my_list = [1, 2, 3, 4, 2]\n",
        "my_set = set(my_list)  # List with duplicates\n",
        "print(my_set)\n",
        "# Output: {1, 2, 3, 4}  # Duplicates are automatically removed\n"
      ]
    },
    {
      "cell_type": "code",
      "execution_count": null,
      "metadata": {
        "colab": {
          "base_uri": "https://localhost:8080/"
        },
        "id": "Strx_j9R5v2s",
        "outputId": "8ba1043f-db97-4853-a0e2-ae3c3f62990c"
      },
      "outputs": [
        {
          "name": "stdout",
          "output_type": "stream",
          "text": [
            "{1, 2, 3, 4}\n"
          ]
        }
      ],
      "source": [
        "my_set = {1, 2, 3}\n",
        "my_set.add(4)\n",
        "print(my_set)\n"
      ]
    },
    {
      "cell_type": "code",
      "execution_count": null,
      "metadata": {
        "colab": {
          "base_uri": "https://localhost:8080/"
        },
        "id": "IWy1ckaq6CWp",
        "outputId": "3d65a374-240f-4636-ba24-71552e88be92"
      },
      "outputs": [
        {
          "name": "stdout",
          "output_type": "stream",
          "text": [
            "{1, 2, 4}\n"
          ]
        }
      ],
      "source": [
        "my_set.remove(3)  # Removes 3 from the set\n",
        "my_set.discard(10)  # Does nothing since 10 is not in the set\n",
        "print(my_set)\n",
        "# Output: {1, 2, 4}\n"
      ]
    }
  ],
  "metadata": {
    "colab": {
      "provenance": []
    },
    "kernelspec": {
      "display_name": "Python 3 (ipykernel)",
      "language": "python",
      "name": "python3"
    },
    "language_info": {
      "codemirror_mode": {
        "name": "ipython",
        "version": 3
      },
      "file_extension": ".py",
      "mimetype": "text/x-python",
      "name": "python",
      "nbconvert_exporter": "python",
      "pygments_lexer": "ipython3",
      "version": "3.11.0"
    }
  },
  "nbformat": 4,
  "nbformat_minor": 0
}