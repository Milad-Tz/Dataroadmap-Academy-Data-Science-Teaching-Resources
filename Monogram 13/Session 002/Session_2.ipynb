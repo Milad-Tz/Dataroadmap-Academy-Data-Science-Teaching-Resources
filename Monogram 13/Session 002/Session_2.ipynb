{
  "nbformat": 4,
  "nbformat_minor": 0,
  "metadata": {
    "colab": {
      "provenance": []
    },
    "kernelspec": {
      "name": "python3",
      "display_name": "Python 3"
    },
    "language_info": {
      "name": "python"
    }
  },
  "cells": [
    {
      "cell_type": "markdown",
      "source": [
        "# Python String Indexing\n",
        "## 1.1 What is String Indexing?\n",
        "String indexing in Python allows you to access individual characters in a string by their position, known as the index. Each character in a string has a unique index:\n",
        "\n",
        "- Positive indexing starts from 0, where 0 refers to the first character.\n",
        "- Negative indexing starts from -1, where -1 refers to the last character."
      ],
      "metadata": {
        "id": "RnAHTyGCek5L"
      }
    },
    {
      "cell_type": "code",
      "execution_count": null,
      "metadata": {
        "id": "U8AVYeCKXclC"
      },
      "outputs": [],
      "source": [
        "word = \"Python\"\n",
        "print(word[0])    # Output: P (first character)\n",
        "print(word[3])    # Output: h (fourth character)\n",
        "print(word[-1])   # Output: n (last character)\n",
        "print(word[-2])   # Output: o (second last character)"
      ]
    },
    {
      "cell_type": "markdown",
      "source": [
        "## 1.2 String Slicing\n",
        "You can access a range of characters (substring) in a string using slicing. The slice specifies the start and end index, but note that the character at the end index is not included.\n",
        "\n",
        "string_variable[start:end]\n",
        "\n",
        "- start: The index where the slice starts (inclusive).\n",
        "- end: The index where the slice ends (exclusive)."
      ],
      "metadata": {
        "id": "hj5iEkpke6Q_"
      }
    },
    {
      "cell_type": "code",
      "source": [
        "word = \"Python\"\n",
        "print(word[0:4])    # Output: Pyth (characters from index 0 to 3)\n",
        "print(word[:2])     # Output: Py (characters from index 0 to 1)\n",
        "print(word[2:])     # Output: thon (characters from index 2 to the end)\n",
        "print(word[-4:-2])"
      ],
      "metadata": {
        "colab": {
          "base_uri": "https://localhost:8080/"
        },
        "id": "qKArqK-_e53p",
        "outputId": "e2c92a54-adb5-4ec9-bcac-ba1d9c21f3cd"
      },
      "execution_count": null,
      "outputs": [
        {
          "output_type": "stream",
          "name": "stdout",
          "text": [
            "Pyth\n",
            "Py\n",
            "thon\n",
            "th\n"
          ]
        }
      ]
    },
    {
      "cell_type": "markdown",
      "source": [
        "## 1.3 Step Slicing\n",
        "You can also add a step to your slicing, which allows you to skip characters. By default, the step is 1 (no skipping).\n",
        "\n",
        "string_variable[start:end:step]\n"
      ],
      "metadata": {
        "id": "v-7WFNLtkDUJ"
      }
    },
    {
      "cell_type": "code",
      "source": [
        "word = \"Python\"\n",
        "print(word[::2])    # Output: Pto (every second character)\n",
        "print(word[1::2])   # Output: yhn (starting from index 1, every second character)\n",
        "print(word[::-1])"
      ],
      "metadata": {
        "colab": {
          "base_uri": "https://localhost:8080/"
        },
        "id": "QovPbcq8fiBM",
        "outputId": "ec9d60f8-f8d1-47d1-8661-7ea3fe23d81f"
      },
      "execution_count": null,
      "outputs": [
        {
          "output_type": "stream",
          "name": "stdout",
          "text": [
            "Pto\n",
            "yhn\n",
            "nohtyP\n"
          ]
        }
      ]
    },
    {
      "cell_type": "markdown",
      "source": [
        "## Exercise 001\n",
        "Write a program that asks the user for a word and then prints:\n",
        "\n",
        "- The first and last characters.\n",
        "- A substring from the second to the fourth character.\n",
        "- The word in reverse using slicing."
      ],
      "metadata": {
        "id": "xBxsWg3Mlpgz"
      }
    },
    {
      "cell_type": "code",
      "source": [
        "word = input(\"Enter a word: \")\n",
        "\n",
        "# First and last characters\n",
        "print(\"First character:\", word[0])\n",
        "print(\"Last character:\", word[-1])\n",
        "\n",
        "# Substring from second to fourth character\n",
        "print(\"Substring (2nd to 4th character):\", word[1:4])\n",
        "\n",
        "# Word in reverse\n",
        "print(\"Reversed word:\", word[::-1])"
      ],
      "metadata": {
        "colab": {
          "base_uri": "https://localhost:8080/"
        },
        "id": "jbmxgMFBlBjL",
        "outputId": "dc600bd6-4749-4f57-fdec-4f8dc61969b8"
      },
      "execution_count": null,
      "outputs": [
        {
          "output_type": "stream",
          "name": "stdout",
          "text": [
            "Enter a word: milad\n",
            "First character: m\n",
            "Last character: d\n",
            "Substring (2nd to 4th character): ila\n",
            "Reversed word: dalim\n"
          ]
        }
      ]
    },
    {
      "cell_type": "markdown",
      "source": [
        "# String Methods"
      ],
      "metadata": {
        "id": "lyZXKB34CCOj"
      }
    },
    {
      "cell_type": "code",
      "source": [],
      "metadata": {
        "id": "9BW5KNVECMbF"
      },
      "execution_count": null,
      "outputs": []
    },
    {
      "cell_type": "code",
      "source": [],
      "metadata": {
        "id": "cMkAnT2ZCMYD"
      },
      "execution_count": null,
      "outputs": []
    },
    {
      "cell_type": "code",
      "source": [],
      "metadata": {
        "id": "CC83aDObCB0b"
      },
      "execution_count": null,
      "outputs": []
    },
    {
      "cell_type": "markdown",
      "source": [
        "# Python Data structures\n",
        "## 1. Lists\n",
        "### 1.1 What is List?\n",
        "A list is a collection of items that are ordered, mutable (can be changed), and allow duplicate elements. Lists are one of the most commonly used data structures in Python and are defined using square brackets []."
      ],
      "metadata": {
        "id": "3eCmiS2xndip"
      }
    },
    {
      "cell_type": "code",
      "source": [
        "numbers = [10, 20, 30, 40, 50]\n",
        "fruits = [\"apple\", \"banana\", \"cherry\"]\n",
        "my_list = ['a', True, 35, [1,2,'a'], numbers]"
      ],
      "metadata": {
        "id": "nw4DZ_RcmTRu"
      },
      "execution_count": null,
      "outputs": []
    },
    {
      "cell_type": "code",
      "source": [
        "my_list"
      ],
      "metadata": {
        "colab": {
          "base_uri": "https://localhost:8080/"
        },
        "id": "r3TBIuwp5snA",
        "outputId": "f3eefd48-3473-4299-c04f-bbc23ef0a313"
      },
      "execution_count": null,
      "outputs": [
        {
          "output_type": "execute_result",
          "data": {
            "text/plain": [
              "['a', True, 35, [1, 2, 'a'], [10, 20, 30, 40, 50]]"
            ]
          },
          "metadata": {},
          "execution_count": 7
        }
      ]
    },
    {
      "cell_type": "markdown",
      "source": [
        "## 1.2 List Indexing\n",
        "Just like strings, you can access individual elements in a list using their index. Python lists use zero-based indexing:\n",
        "\n",
        "Positive indexing starts from 0.\n",
        "Negative indexing starts from -1 (for accessing elements from the end)."
      ],
      "metadata": {
        "id": "hIpIHG2i8Cal"
      }
    },
    {
      "cell_type": "code",
      "source": [
        "numbers = [10, 20, 30, 40, 50]\n",
        "\n",
        "print(numbers[0])   # Output: 10 (first element)\n",
        "print(numbers[2])   # Output: 30 (third element)\n",
        "print(numbers[-1])  # Output: 50 (last element)\n",
        "print(numbers[-2])  # Output: 40 (second last element)"
      ],
      "metadata": {
        "id": "RQeqT9kq5t1e"
      },
      "execution_count": null,
      "outputs": []
    },
    {
      "cell_type": "markdown",
      "source": [
        "### Exercise 002: Help! Extract the Hidden Message!\n",
        "Scenario:\n",
        "You're a Python treasure hunter, and a message has been hidden deep inside a list. Your mission, should you choose to accept it, is to navigate through the twists and turns of the list and extract the secret message!\n",
        "\n",
        "The List:\n",
        "my_list = ['a', True, 35, [1, 2, 'a'], [10, 20, ['save me', 40], 'Hi']]\n",
        "\n",
        "Objective:\n",
        "Your task is to extract the hidden cry for help: 'save me'."
      ],
      "metadata": {
        "id": "vAlI9xF69EnE"
      }
    },
    {
      "cell_type": "code",
      "source": [
        "my_list = ['a', True, 35, [1, 2, 'a'], [10, 20, ['save me', 40], 'Hi']]\n",
        "\n",
        "# Step by step rescue mission\n",
        "message = my_list[4][2][0]  # Extracting the hidden message\n",
        "print(message)  # Output: 'save me'"
      ],
      "metadata": {
        "colab": {
          "base_uri": "https://localhost:8080/"
        },
        "id": "xSAoj9U38aPK",
        "outputId": "4b5f3498-a80c-4365-f233-dec272fe4871"
      },
      "execution_count": null,
      "outputs": [
        {
          "output_type": "stream",
          "name": "stdout",
          "text": [
            "save me\n"
          ]
        }
      ]
    },
    {
      "cell_type": "markdown",
      "source": [
        "## 1.3 List Slicing\n",
        "You can also access a range of elements from a list using slicing. Slicing allows you to extract a part of the list by specifying a start and end index (the end index is exclusive)."
      ],
      "metadata": {
        "id": "lYrrYiSC9dQi"
      }
    },
    {
      "cell_type": "code",
      "source": [
        "numbers = [10, 20, 'python', 40, 50, 60, 'a', ]\n",
        "\n",
        "print(numbers[1:4])\n",
        "print(numbers[:3])\n",
        "print(numbers[2:])\n",
        "print(numbers[2::2])"
      ],
      "metadata": {
        "colab": {
          "base_uri": "https://localhost:8080/"
        },
        "id": "3Mj5I7hx9cJf",
        "outputId": "125e358a-cb45-4847-cd11-b411494e22e3"
      },
      "execution_count": null,
      "outputs": [
        {
          "output_type": "stream",
          "name": "stdout",
          "text": [
            "[20, 'python', 40]\n",
            "[10, 20, 'python']\n",
            "['python', 40, 50, 60, 'a']\n",
            "['python', 50, 'a']\n"
          ]
        }
      ]
    },
    {
      "cell_type": "markdown",
      "source": [
        "## 1.4 List Methods\n",
        "Lists have many built-in methods that allow you to modify and manipulate them. Here are some commonly used methods:\n",
        "\n",
        "i. append() – Adds an element to the end of the list."
      ],
      "metadata": {
        "id": "zF-ADpBj-wfj"
      }
    },
    {
      "cell_type": "code",
      "source": [
        "fruits = [\"apple\", \"banana\", \"cherry\"]\n",
        "fruits.append(\"orange\")\n",
        "print(fruits)  # Output: ['apple', 'banana', 'cherry', 'orange']"
      ],
      "metadata": {
        "id": "4IdkauNo9qEP",
        "colab": {
          "base_uri": "https://localhost:8080/"
        },
        "outputId": "817f7a7e-014d-45c4-a946-04ac280f7a51"
      },
      "execution_count": 12,
      "outputs": [
        {
          "output_type": "stream",
          "name": "stdout",
          "text": [
            "['apple', 'banana', 'cherry', 'orange']\n"
          ]
        }
      ]
    },
    {
      "cell_type": "markdown",
      "source": [
        "ii. insert() – Inserts an element at a specific position."
      ],
      "metadata": {
        "id": "y5KBdjOQ-6lK"
      }
    },
    {
      "cell_type": "code",
      "source": [
        "fruits = [\"apple\", \"banana\", \"cherry\"]\n",
        "fruits.insert(1, \"kiwi\")\n",
        "print(fruits)  # Output: ['apple', 'kiwi', 'banana', 'cherry']"
      ],
      "metadata": {
        "colab": {
          "base_uri": "https://localhost:8080/"
        },
        "id": "ol9t7x6d-4iK",
        "outputId": "aa7f12a6-c51c-4045-91e4-8de21b0bfe1e"
      },
      "execution_count": 13,
      "outputs": [
        {
          "output_type": "stream",
          "name": "stdout",
          "text": [
            "['apple', 'kiwi', 'banana', 'cherry']\n"
          ]
        }
      ]
    },
    {
      "cell_type": "markdown",
      "source": [
        "iii. pop() – Removes and returns an element at a given index (default is the last element)."
      ],
      "metadata": {
        "id": "ORDftJi4_BKK"
      }
    },
    {
      "cell_type": "code",
      "source": [
        "fruits = [\"apple\", \"banana\", \"cherry\"]\n",
        "fruits.pop(1)\n",
        "print(fruits)  # Output: ['apple', 'cherry'] (removes \"banana\")"
      ],
      "metadata": {
        "colab": {
          "base_uri": "https://localhost:8080/"
        },
        "id": "uVtpVkM6-9IR",
        "outputId": "f44e6336-e837-4a8e-bd8f-a6a1fda7ca42"
      },
      "execution_count": 14,
      "outputs": [
        {
          "output_type": "stream",
          "name": "stdout",
          "text": [
            "['apple', 'cherry']\n"
          ]
        }
      ]
    },
    {
      "cell_type": "markdown",
      "source": [
        "iv. remove() – Removes the first occurrence of an element."
      ],
      "metadata": {
        "id": "gwZ7p0LS_FSy"
      }
    },
    {
      "cell_type": "code",
      "source": [
        "fruits = [\"apple\", \"banana\", \"cherry\", \"banana\"]\n",
        "fruits.remove(\"banana\")\n",
        "print(fruits)  # Output: ['apple', 'cherry', 'banana'] (removes the first \"banana\")"
      ],
      "metadata": {
        "colab": {
          "base_uri": "https://localhost:8080/"
        },
        "id": "Ca_rF6ye_D39",
        "outputId": "33c28ffd-00f2-41ea-8de3-b6b134619fe4"
      },
      "execution_count": 15,
      "outputs": [
        {
          "output_type": "stream",
          "name": "stdout",
          "text": [
            "['apple', 'cherry', 'banana']\n"
          ]
        }
      ]
    },
    {
      "cell_type": "code",
      "source": [
        "fruits.remove(\"banana\")\n",
        "print(fruits)"
      ],
      "metadata": {
        "colab": {
          "base_uri": "https://localhost:8080/"
        },
        "id": "Lm0LSs0Z_LCw",
        "outputId": "7d7e5925-ee1e-4983-ff81-92f83bd7e26b"
      },
      "execution_count": 16,
      "outputs": [
        {
          "output_type": "stream",
          "name": "stdout",
          "text": [
            "['apple', 'cherry']\n"
          ]
        }
      ]
    },
    {
      "cell_type": "markdown",
      "source": [
        "v. sort() – Sorts the list in place (ascending order by default)."
      ],
      "metadata": {
        "id": "DaZe9Mww_RAq"
      }
    },
    {
      "cell_type": "code",
      "source": [
        "numbers = [30, 10, 50, 20, 40]\n",
        "numbers.sort()\n",
        "print(numbers)  # Output: [10, 20, 30, 40, 50]"
      ],
      "metadata": {
        "colab": {
          "base_uri": "https://localhost:8080/"
        },
        "id": "pfYFpIy7_NFW",
        "outputId": "d23c75ca-fd89-45e1-bc9d-c2625451779b"
      },
      "execution_count": 17,
      "outputs": [
        {
          "output_type": "stream",
          "name": "stdout",
          "text": [
            "[10, 20, 30, 40, 50]\n"
          ]
        }
      ]
    },
    {
      "cell_type": "code",
      "source": [
        "numbers = [30, 10, 50, 20, 40]\n",
        "numbers.sort(reverse=True)\n",
        "print(numbers)"
      ],
      "metadata": {
        "colab": {
          "base_uri": "https://localhost:8080/"
        },
        "id": "65t1RAwg_UiS",
        "outputId": "6c753c33-47f5-46d8-b873-cca5dd887f85"
      },
      "execution_count": 18,
      "outputs": [
        {
          "output_type": "stream",
          "name": "stdout",
          "text": [
            "[50, 40, 30, 20, 10]\n"
          ]
        }
      ]
    },
    {
      "cell_type": "markdown",
      "source": [
        "vi. reverse() – Reverses the list in place."
      ],
      "metadata": {
        "id": "Y6nBoVm2_noi"
      }
    },
    {
      "cell_type": "code",
      "source": [
        "fruits = [\"apple\", \"melon\", \"banana\", \"cherry\"]\n",
        "fruits.reverse()\n",
        "print(fruits)  # Output: ['cherry', 'banana', 'apple']\n"
      ],
      "metadata": {
        "colab": {
          "base_uri": "https://localhost:8080/"
        },
        "id": "QEULGwcq_g2d",
        "outputId": "75da6f5f-ceda-4413-d2d1-c76d4a9c23a6"
      },
      "execution_count": 19,
      "outputs": [
        {
          "output_type": "stream",
          "name": "stdout",
          "text": [
            "['cherry', 'banana', 'melon', 'apple']\n"
          ]
        }
      ]
    },
    {
      "cell_type": "markdown",
      "source": [
        "## 1.4 Split Method"
      ],
      "metadata": {
        "id": "9vrxnrJuB1l6"
      }
    },
    {
      "cell_type": "code",
      "source": [],
      "metadata": {
        "id": "jQtQmjHa_ze7"
      },
      "execution_count": null,
      "outputs": []
    }
  ]
}