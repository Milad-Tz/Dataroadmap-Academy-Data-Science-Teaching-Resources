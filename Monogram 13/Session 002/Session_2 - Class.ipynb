{
 "cells": [
  {
   "cell_type": "markdown",
   "metadata": {
    "id": "RnAHTyGCek5L"
   },
   "source": [
    "# Python String Indexing\n",
    "## 1.1 What is String Indexing?\n",
    "String indexing in Python allows you to access individual characters in a string by their position, known as the index. Each character in a string has a unique index:\n",
    "\n",
    "- Positive indexing starts from 0, where 0 refers to the first character.\n",
    "- Negative indexing starts from -1, where -1 refers to the last character."
   ]
  },
  {
   "cell_type": "code",
   "execution_count": null,
   "metadata": {
    "id": "U8AVYeCKXclC"
   },
   "outputs": [],
   "source": [
    "word = \"Python\"\n",
    "print(word[0])    # Output: P (first character)\n",
    "print(word[3])    # Output: h (fourth character)\n",
    "print(word[-1])   # Output: n (last character)\n",
    "print(word[-2])   # Output: o (second last character)"
   ]
  },
  {
   "cell_type": "markdown",
   "metadata": {
    "id": "hj5iEkpke6Q_"
   },
   "source": [
    "## 1.2 String Slicing\n",
    "\n",
    "In Python, you can access a range of characters (a substring) in a string using **slicing**. Slicing allows you to specify the starting and ending indices of the substring, though the character at the end index is **not included**.\n",
    "\n",
    "`string_variable[start:end]`\n",
    "\n",
    "- `start`: The index where the slice begins (inclusive).\n",
    "- `end`: The index where the slice ends (exclusive).\n"
   ]
  },
  {
   "cell_type": "code",
   "execution_count": null,
   "metadata": {
    "colab": {
     "base_uri": "https://localhost:8080/"
    },
    "id": "qKArqK-_e53p",
    "outputId": "e2c92a54-adb5-4ec9-bcac-ba1d9c21f3cd"
   },
   "outputs": [
    {
     "name": "stdout",
     "output_type": "stream",
     "text": [
      "Pyth\n",
      "Py\n",
      "thon\n",
      "th\n"
     ]
    }
   ],
   "source": [
    "word = \"Python\"\n",
    "print(word[0:4])    # Output: Pyth (characters from index 0 to 3)\n",
    "print(word[:2])     # Output: Py (characters from index 0 to 1)\n",
    "print(word[2:])     # Output: thon (characters from index 2 to the end)\n",
    "print(word[-4:-2])"
   ]
  },
  {
   "cell_type": "markdown",
   "metadata": {
    "id": "v-7WFNLtkDUJ"
   },
   "source": [
    "## 1.3 Step Slicing\n",
    "\n",
    "In Python, you can also add a **step** to your slicing, which allows you to skip characters. By default, the step is `1` (no skipping).\n",
    "\n",
    "`string_variable[start:end:step]`\n"
   ]
  },
  {
   "cell_type": "code",
   "execution_count": null,
   "metadata": {
    "colab": {
     "base_uri": "https://localhost:8080/"
    },
    "id": "QovPbcq8fiBM",
    "outputId": "ec9d60f8-f8d1-47d1-8661-7ea3fe23d81f"
   },
   "outputs": [
    {
     "name": "stdout",
     "output_type": "stream",
     "text": [
      "Pto\n",
      "yhn\n",
      "nohtyP\n"
     ]
    }
   ],
   "source": [
    "word = \"Python\"\n",
    "print(word[::2])    # Output: Pto (every second character)\n",
    "print(word[1::2])   # Output: yhn (starting from index 1, every second character)\n",
    "print(word[::-1])"
   ]
  },
  {
   "cell_type": "markdown",
   "metadata": {
    "id": "xBxsWg3Mlpgz"
   },
   "source": [
    "## Exercise 001\n",
    "Write a program that asks the user for a word and then prints:\n",
    "\n",
    "- The first and last characters.\n",
    "- A substring from the second to the fourth character.\n",
    "- The word in reverse using slicing."
   ]
  },
  {
   "cell_type": "code",
   "execution_count": null,
   "metadata": {
    "colab": {
     "base_uri": "https://localhost:8080/"
    },
    "id": "jbmxgMFBlBjL",
    "outputId": "dc600bd6-4749-4f57-fdec-4f8dc61969b8"
   },
   "outputs": [],
   "source": []
  },
  {
   "cell_type": "markdown",
   "metadata": {
    "id": "lyZXKB34CCOj"
   },
   "source": [
    "# String Methods"
   ]
  },
  {
   "cell_type": "markdown",
   "metadata": {
    "id": "FQ7KYRSQAd9B"
   },
   "source": [
    "## `strip()` – Removing Unwanted Spaces\n",
    "\n",
    "The `strip()` method removes leading and trailing whitespace (spaces, tabs, newlines) from a string.\n",
    "\n",
    "`example.strip()`\n"
   ]
  },
  {
   "cell_type": "code",
   "execution_count": 1,
   "metadata": {
    "colab": {
     "base_uri": "https://localhost:8080/"
    },
    "id": "9BW5KNVECMbF",
    "outputId": "fc35015a-6a18-42a2-83b6-e66b7eb51a8d"
   },
   "outputs": [
    {
     "name": "stdout",
     "output_type": "stream",
     "text": [
      "'Hello, World!'\n"
     ]
    }
   ],
   "source": [
    "text = \"  Hello, World!  \"\n",
    "cleaned_text = text.strip()\n",
    "print(f\"'{cleaned_text}'\")  # Output: 'Hello, World!'"
   ]
  },
  {
   "cell_type": "code",
   "execution_count": 4,
   "metadata": {
    "colab": {
     "base_uri": "https://localhost:8080/"
    },
    "id": "cMkAnT2ZCMYD",
    "outputId": "8e2dbb56-76b5-4708-d336-bbe0bcd3894c"
   },
   "outputs": [
    {
     "name": "stdout",
     "output_type": "stream",
     "text": [
      "'  Hello, Python'\n"
     ]
    }
   ],
   "source": [
    "text = \"  Hello, Python!!!\"\n",
    "cleaned_text = text.rstrip(\"!\")\n",
    "print(f\"'{cleaned_text}'\")  # Output: '  Hello, Python'"
   ]
  },
  {
   "cell_type": "code",
   "execution_count": 3,
   "metadata": {
    "colab": {
     "base_uri": "https://localhost:8080/"
    },
    "id": "CC83aDObCB0b",
    "outputId": "7d2e0e6b-9ce8-44d4-fd43-e607e187a494"
   },
   "outputs": [
    {
     "name": "stdout",
     "output_type": "stream",
     "text": [
      "'Hello, World!   '\n"
     ]
    }
   ],
   "source": [
    "text = \"   Hello, World!   \"\n",
    "cleaned_text = text.lstrip()\n",
    "print(f\"'{cleaned_text}'\")  # Output: 'Hello, World!   '\n"
   ]
  },
  {
   "cell_type": "markdown",
   "metadata": {
    "id": "trQca-o_A4UC"
   },
   "source": [
    "## `lower()` and `upper()` – Case Conversion\n",
    "\n",
    "- The `lower()` method converts all characters in a string to lowercase.\n",
    "- The `upper()` method converts all characters in a string to uppercase.\n",
    "\n",
    "`example.lower()`\n",
    "`example.upper()`"
   ]
  },
  {
   "cell_type": "code",
   "execution_count": 5,
   "metadata": {
    "colab": {
     "base_uri": "https://localhost:8080/"
    },
    "id": "_5Q3zqq9BYv6",
    "outputId": "03eea22c-e88d-4e36-f907-a1788d8b6666"
   },
   "outputs": [
    {
     "name": "stdout",
     "output_type": "stream",
     "text": [
      "data science is amazing!\n"
     ]
    }
   ],
   "source": [
    "text = \"Data Science is Amazing!\"\n",
    "cleaned_text = text.lower()  # Convert to lowercase for consistent analysis\n",
    "print(cleaned_text)  # Output: 'data science is amazing!'\n"
   ]
  },
  {
   "cell_type": "markdown",
   "metadata": {
    "id": "iZTOIvCnB1PJ"
   },
   "source": [
    "## `replace()` – Making Abbreviations Understandable\n",
    "\n",
    "The `replace()` method is often used to standardize data, such as replacing abbreviations, correcting misspellings, or removing unwanted characters.\n",
    "\n",
    "`example.replace(\"abbreviation\", \"full term\")`\n"
   ]
  },
  {
   "cell_type": "code",
   "execution_count": null,
   "metadata": {
    "id": "28JtrqerB4OR"
   },
   "outputs": [],
   "source": [
    "message = \"CEO said to check the KPIs ASAP.\"\n",
    "decoded_message = message.replace(\"KPIs\", \"Key Performance Indicators\").replace(\"ASAP\", \"as soon as possible\")\n",
    "print(decoded_message)  # Output: 'CEO said to check the Key Performance Indicators as soon as possible.'"
   ]
  },
  {
   "cell_type": "markdown",
   "metadata": {
    "id": "xh8DIEgOCM9b"
   },
   "source": [
    "##`startswith()` and `endswith()` – Filtering Data\n",
    "\n",
    "In datasets with specific patterns (like filenames, URLs, or email addresses), you may want to filter strings that start or end with certain keywords.\n",
    "\n",
    "- `example.startswith(\"keyword\")`: Checks if the string starts with the specified keyword.\n",
    "- `example.endswith(\"keyword\")`: Checks if the string ends with the specified keyword.\n"
   ]
  },
  {
   "cell_type": "code",
   "execution_count": 6,
   "metadata": {
    "colab": {
     "base_uri": "https://localhost:8080/"
    },
    "id": "mV59wBMbB4Gz",
    "outputId": "d2b3193b-67cd-4a57-ae1e-e6e85c641e92"
   },
   "outputs": [
    {
     "name": "stdout",
     "output_type": "stream",
     "text": [
      "True\n"
     ]
    }
   ],
   "source": [
    "email = \"user@gmail.com\"\n",
    "is_valid = email.endswith(\"gmail.com\")  # Checking if email ends with '.com'\n",
    "print(is_valid)  # Output: True\n"
   ]
  },
  {
   "cell_type": "code",
   "execution_count": 10,
   "metadata": {
    "colab": {
     "base_uri": "https://localhost:8080/"
    },
    "id": "0PuMhjD1CZFS",
    "outputId": "ded460b5-8956-41ad-c47a-c5585e5a83b0"
   },
   "outputs": [
    {
     "name": "stdout",
     "output_type": "stream",
     "text": [
      "True\n"
     ]
    }
   ],
   "source": [
    "phone = \"+9890312811111\"\n",
    "is_valid = phone.startswith(\"+98\")  # Checking if email ends with '.com'\n",
    "print(is_valid)  # Output: True"
   ]
  },
  {
   "cell_type": "markdown",
   "metadata": {
    "id": "962RJ-soCxXR"
   },
   "source": [
    "## `join()` – Combining Text Data\n",
    "\n",
    "After processing, you might want to recombine text fields. The `join()` method is often used to concatenate lists back into a single string.\n",
    "\n",
    "`separator.join(list_of_strings)`"
   ]
  },
  {
   "cell_type": "code",
   "execution_count": 12,
   "metadata": {
    "colab": {
     "base_uri": "https://localhost:8080/"
    },
    "id": "VBAiSLJsCwza",
    "outputId": "f7bd7dcd-dd4b-4458-bcf8-dbbf86b7a0de"
   },
   "outputs": [
    {
     "name": "stdout",
     "output_type": "stream",
     "text": [
      "DataScienceisfun\n"
     ]
    }
   ],
   "source": [
    "words = [\"Data\", \"Science\", \"is\", \"fun\"]\n",
    "sentence = \" \".join(words)  # Combine list of words into a sentence\n",
    "print(sentence)  # Output: 'Data Science is fun'\n"
   ]
  },
  {
   "cell_type": "markdown",
   "metadata": {
    "id": "_9QLFtyxDtLr"
   },
   "source": [
    "## `isalpha()`, `isdigit()`, and `isalnum()` – Validating Data\n",
    "\n",
    "In data cleaning, it's essential to verify the type of data in a string, especially when validating input fields like IDs, phone numbers, or product codes.\n",
    "\n",
    "- `example.isalpha()`: Returns `True` if all characters in the string are alphabetic.\n",
    "- `example.isdigit()`: Returns `True` if all characters in the string are digits.\n",
    "- `example.isalnum()`: Returns `True` if all characters in the string are alphanumeric (letters and digits).\n"
   ]
  },
  {
   "cell_type": "code",
   "execution_count": 14,
   "metadata": {
    "colab": {
     "base_uri": "https://localhost:8080/"
    },
    "id": "AEAVsXmaEQw0",
    "outputId": "96dd094f-d31e-4aaf-d1cd-5786d229eba8"
   },
   "outputs": [
    {
     "name": "stdout",
     "output_type": "stream",
     "text": [
      "True\n",
      "False\n"
     ]
    }
   ],
   "source": [
    "id_code = \"A1234\"\n",
    "is_valid = id_code.isalnum()  # Check if ID contains only letters and numbers\n",
    "print(is_valid)  # Output: True\n",
    "\n",
    "phone = \"+9890312811111\"\n",
    "print(phone.isdigit())"
   ]
  },
  {
   "cell_type": "markdown",
   "metadata": {
    "id": "7tKdscNyEyGb"
   },
   "source": [
    "##`format()` – Inserting Variables into Strings\n",
    "\n",
    "When working with datasets, you often need to dynamically create strings with variable values. The `format()` method is helpful for generating custom messages, reports, or labels.\n",
    "\n",
    "`\"Hello, {}. Your score is {}\".format(name, score)`"
   ]
  },
  {
   "cell_type": "code",
   "execution_count": 17,
   "metadata": {
    "colab": {
     "base_uri": "https://localhost:8080/"
    },
    "id": "YkwjaBAsE0J9",
    "outputId": "254f9804-c95f-43db-b8e2-4471eb76a08c"
   },
   "outputs": [
    {
     "name": "stdout",
     "output_type": "stream",
     "text": [
      "The column age has 5 missing values.\n",
      "The column age has 5 missing values.\n"
     ]
    }
   ],
   "source": [
    "column_name = \"age\"\n",
    "missing_values = 5\n",
    "message = \"The column {} has {} missing values.\".format(column_name, missing_values)\n",
    "print(message)  # Output: The column 'age' has 5 missing values.\n",
    "message2 = f\"The column {column_name} has {missing_values} missing values.\"\n",
    "print(message2)"
   ]
  },
  {
   "cell_type": "markdown",
   "metadata": {
    "id": "3eCmiS2xndip"
   },
   "source": [
    "# Python Data Structures\n",
    "\n",
    "## 1. Lists\n",
    "\n",
    "### 1.1 What is a List?\n",
    "\n",
    "A list is a collection of items that are ordered, mutable (can be changed), and allow duplicate elements. Lists are one of the most commonly used data structures in Python and are defined using square brackets `[]`.\n"
   ]
  },
  {
   "cell_type": "code",
   "execution_count": null,
   "metadata": {
    "id": "nw4DZ_RcmTRu"
   },
   "outputs": [],
   "source": [
    "numbers = [10, 20, 30, 40, 50]\n",
    "fruits = [\"apple\", \"banana\", \"cherry\"]\n",
    "my_list = ['a', True, 35, [1,2,'a'], numbers]"
   ]
  },
  {
   "cell_type": "code",
   "execution_count": null,
   "metadata": {
    "colab": {
     "base_uri": "https://localhost:8080/"
    },
    "id": "r3TBIuwp5snA",
    "outputId": "f3eefd48-3473-4299-c04f-bbc23ef0a313"
   },
   "outputs": [
    {
     "data": {
      "text/plain": [
       "['a', True, 35, [1, 2, 'a'], [10, 20, 30, 40, 50]]"
      ]
     },
     "execution_count": 7,
     "metadata": {},
     "output_type": "execute_result"
    }
   ],
   "source": [
    "my_list"
   ]
  },
  {
   "cell_type": "markdown",
   "metadata": {
    "id": "hIpIHG2i8Cal"
   },
   "source": [
    "## 1.2 List Indexing\n",
    "\n",
    "Just like strings, you can access individual elements in a list using their index. Python lists use **zero-based indexing**:\n",
    "\n",
    "- **Positive indexing** starts from `0`.\n",
    "- **Negative indexing** starts from `-1` (for accessing elements from the end).\n"
   ]
  },
  {
   "cell_type": "code",
   "execution_count": null,
   "metadata": {
    "id": "RQeqT9kq5t1e"
   },
   "outputs": [],
   "source": [
    "numbers = [10, 20, 30, 40, 50]\n",
    "\n",
    "print(numbers[0])   # Output: 10 (first element)\n",
    "print(numbers[2])   # Output: 30 (third element)\n",
    "print(numbers[-1])  # Output: 50 (last element)\n",
    "print(numbers[-2])  # Output: 40 (second last element)"
   ]
  },
  {
   "cell_type": "markdown",
   "metadata": {
    "id": "vAlI9xF69EnE"
   },
   "source": [
    "### Exercise 002: Help! Extract the Hidden Message!\n",
    "\n",
    "**Scenario:**  \n",
    "You're a Python treasure hunter, and a message has been hidden deep inside a list. Your mission, should you choose to accept it, is to navigate through the twists and turns of the list and extract the secret message!\n",
    "\n",
    "**The List:**  \n",
    "```python\n",
    "my_list = ['a', True, 35, [1, 2, 'a'], [10, 20, ['save me', 40], 'Hi']]\n"
   ]
  },
  {
   "cell_type": "code",
   "execution_count": null,
   "metadata": {
    "colab": {
     "base_uri": "https://localhost:8080/"
    },
    "id": "xSAoj9U38aPK",
    "outputId": "4b5f3498-a80c-4365-f233-dec272fe4871"
   },
   "outputs": [],
   "source": []
  },
  {
   "cell_type": "markdown",
   "metadata": {
    "id": "lYrrYiSC9dQi"
   },
   "source": [
    "## 1.3 List Slicing\n",
    "\n",
    "You can also access a range of elements from a list using **slicing**. Slicing allows you to extract a part of the list by specifying a start and end index (the end index is exclusive).\n",
    "\n",
    "```python\n",
    "my_list[start:end]\n"
   ]
  },
  {
   "cell_type": "code",
   "execution_count": null,
   "metadata": {
    "colab": {
     "base_uri": "https://localhost:8080/"
    },
    "id": "3Mj5I7hx9cJf",
    "outputId": "125e358a-cb45-4847-cd11-b411494e22e3"
   },
   "outputs": [
    {
     "name": "stdout",
     "output_type": "stream",
     "text": [
      "[20, 'python', 40]\n",
      "[10, 20, 'python']\n",
      "['python', 40, 50, 60, 'a']\n",
      "['python', 50, 'a']\n"
     ]
    }
   ],
   "source": [
    "numbers = [10, 20, 'python', 40, 50, 60, 'a', ]\n",
    "\n",
    "print(numbers[1:4])\n",
    "print(numbers[:3])\n",
    "print(numbers[2:])\n",
    "print(numbers[2::2])"
   ]
  },
  {
   "cell_type": "markdown",
   "metadata": {
    "id": "zF-ADpBj-wfj"
   },
   "source": [
    "## 1.4 List Methods\n",
    "\n",
    "Lists have many built-in methods that allow you to modify and manipulate them. Here are some commonly used methods:\n",
    "\n",
    "1. **`append()`** – Adds an element to the end of the list.\n"
   ]
  },
  {
   "cell_type": "code",
   "execution_count": null,
   "metadata": {
    "colab": {
     "base_uri": "https://localhost:8080/"
    },
    "id": "4IdkauNo9qEP",
    "outputId": "817f7a7e-014d-45c4-a946-04ac280f7a51"
   },
   "outputs": [
    {
     "name": "stdout",
     "output_type": "stream",
     "text": [
      "['apple', 'banana', 'cherry', 'orange']\n"
     ]
    }
   ],
   "source": [
    "fruits = [\"apple\", \"banana\", \"cherry\"]\n",
    "fruits.append(\"orange\")\n",
    "print(fruits)  # Output: ['apple', 'banana', 'cherry', 'orange']"
   ]
  },
  {
   "cell_type": "markdown",
   "metadata": {
    "id": "y5KBdjOQ-6lK"
   },
   "source": [
    "2. **`insert()`** – Inserts an element at a specific position."
   ]
  },
  {
   "cell_type": "code",
   "execution_count": null,
   "metadata": {
    "colab": {
     "base_uri": "https://localhost:8080/"
    },
    "id": "ol9t7x6d-4iK",
    "outputId": "aa7f12a6-c51c-4045-91e4-8de21b0bfe1e"
   },
   "outputs": [
    {
     "name": "stdout",
     "output_type": "stream",
     "text": [
      "['apple', 'kiwi', 'banana', 'cherry']\n"
     ]
    }
   ],
   "source": [
    "fruits = [\"apple\", \"banana\", \"cherry\"]\n",
    "fruits.insert(1, \"kiwi\")\n",
    "print(fruits)  # Output: ['apple', 'kiwi', 'banana', 'cherry']"
   ]
  },
  {
   "cell_type": "markdown",
   "metadata": {
    "id": "ORDftJi4_BKK"
   },
   "source": [
    "3. **`pop()`** – Removes and returns an element at a given index (default is the last element).\n"
   ]
  },
  {
   "cell_type": "code",
   "execution_count": null,
   "metadata": {
    "colab": {
     "base_uri": "https://localhost:8080/"
    },
    "id": "uVtpVkM6-9IR",
    "outputId": "f44e6336-e837-4a8e-bd8f-a6a1fda7ca42"
   },
   "outputs": [
    {
     "name": "stdout",
     "output_type": "stream",
     "text": [
      "['apple', 'cherry']\n"
     ]
    }
   ],
   "source": [
    "fruits = [\"apple\", \"banana\", \"cherry\"]\n",
    "fruits.pop(1)\n",
    "print(fruits)  # Output: ['apple', 'cherry'] (removes \"banana\")"
   ]
  },
  {
   "cell_type": "markdown",
   "metadata": {
    "id": "gwZ7p0LS_FSy"
   },
   "source": [
    "4. **`remove()`** – Removes the first occurrence of an element.\n"
   ]
  },
  {
   "cell_type": "code",
   "execution_count": null,
   "metadata": {
    "colab": {
     "base_uri": "https://localhost:8080/"
    },
    "id": "Ca_rF6ye_D39",
    "outputId": "33c28ffd-00f2-41ea-8de3-b6b134619fe4"
   },
   "outputs": [
    {
     "name": "stdout",
     "output_type": "stream",
     "text": [
      "['apple', 'cherry', 'banana']\n"
     ]
    }
   ],
   "source": [
    "fruits = [\"apple\", \"banana\", \"cherry\", \"banana\"]\n",
    "fruits.remove(\"banana\")\n",
    "print(fruits)  # Output: ['apple', 'cherry', 'banana'] (removes the first \"banana\")"
   ]
  },
  {
   "cell_type": "code",
   "execution_count": null,
   "metadata": {
    "colab": {
     "base_uri": "https://localhost:8080/"
    },
    "id": "Lm0LSs0Z_LCw",
    "outputId": "7d7e5925-ee1e-4983-ff81-92f83bd7e26b"
   },
   "outputs": [
    {
     "name": "stdout",
     "output_type": "stream",
     "text": [
      "['apple', 'cherry']\n"
     ]
    }
   ],
   "source": [
    "fruits.remove(\"banana\")\n",
    "print(fruits)"
   ]
  },
  {
   "cell_type": "markdown",
   "metadata": {
    "id": "DaZe9Mww_RAq"
   },
   "source": [
    "5. **`sort()`** – Sorts the list in place (ascending order by default).\n"
   ]
  },
  {
   "cell_type": "code",
   "execution_count": null,
   "metadata": {
    "colab": {
     "base_uri": "https://localhost:8080/"
    },
    "id": "pfYFpIy7_NFW",
    "outputId": "d23c75ca-fd89-45e1-bc9d-c2625451779b"
   },
   "outputs": [
    {
     "name": "stdout",
     "output_type": "stream",
     "text": [
      "[10, 20, 30, 40, 50]\n"
     ]
    }
   ],
   "source": [
    "numbers = [30, 10, 50, 20, 40]\n",
    "numbers.sort()\n",
    "print(numbers)  # Output: [10, 20, 30, 40, 50]"
   ]
  },
  {
   "cell_type": "code",
   "execution_count": null,
   "metadata": {
    "colab": {
     "base_uri": "https://localhost:8080/"
    },
    "id": "65t1RAwg_UiS",
    "outputId": "6c753c33-47f5-46d8-b873-cca5dd887f85"
   },
   "outputs": [
    {
     "name": "stdout",
     "output_type": "stream",
     "text": [
      "[50, 40, 30, 20, 10]\n"
     ]
    }
   ],
   "source": [
    "numbers = [30, 10, 50, 20, 40]\n",
    "numbers.sort(reverse=True)\n",
    "print(numbers)"
   ]
  },
  {
   "cell_type": "markdown",
   "metadata": {
    "id": "Y6nBoVm2_noi"
   },
   "source": [
    "6. **`reverse()`** – Reverses the list in place.\n"
   ]
  },
  {
   "cell_type": "code",
   "execution_count": null,
   "metadata": {
    "colab": {
     "base_uri": "https://localhost:8080/"
    },
    "id": "QEULGwcq_g2d",
    "outputId": "75da6f5f-ceda-4413-d2d1-c76d4a9c23a6"
   },
   "outputs": [
    {
     "name": "stdout",
     "output_type": "stream",
     "text": [
      "['cherry', 'banana', 'melon', 'apple']\n"
     ]
    }
   ],
   "source": [
    "fruits = [\"apple\", \"melon\", \"banana\", \"cherry\"]\n",
    "fruits.reverse()\n",
    "print(fruits)  # Output: ['cherry', 'banana', 'apple']\n"
   ]
  },
  {
   "cell_type": "markdown",
   "metadata": {
    "id": "9vrxnrJuB1l6"
   },
   "source": [
    "## 1.5 Split Method"
   ]
  },
  {
   "cell_type": "markdown",
   "metadata": {
    "id": "dywFQSynGAFD"
   },
   "source": [
    "The `split()` method in Python is used to divide a string into a list of substrings based on a specified delimiter. If no delimiter is provided, it defaults to splitting by spaces.\n",
    "\n",
    "```python\n",
    "string.split(separator, maxsplit)\n"
   ]
  },
  {
   "cell_type": "markdown",
   "metadata": {
    "id": "MYLcjttf-NS3"
   },
   "source": [
    "- separator (optional): The delimiter by which to split the string. By default, it splits on any whitespace (spaces, tabs, newlines).\n",
    "- maxsplit (optional): The maximum number of splits to perform. If not provided, the string is split at every occurrence of the separator."
   ]
  },
  {
   "cell_type": "code",
   "execution_count": 18,
   "metadata": {
    "colab": {
     "base_uri": "https://localhost:8080/"
    },
    "id": "jQtQmjHa_ze7",
    "outputId": "f5e4db15-37ea-4d36-8e16-6da20521f220"
   },
   "outputs": [
    {
     "name": "stdout",
     "output_type": "stream",
     "text": [
      "['Python', 'is', 'fun']\n"
     ]
    }
   ],
   "source": [
    "# Split by Spaces (Default Behavior)\n",
    "text = \"Python is fun\"\n",
    "words = text.split()  # Default split on whitespace\n",
    "print(words)"
   ]
  },
  {
   "cell_type": "code",
   "execution_count": 19,
   "metadata": {
    "id": "zarunRoxGLnL"
   },
   "outputs": [],
   "source": [
    "# Split by a Specific Character (Comma)\n",
    "csv = \"apple,banana,cherry\"\n",
    "fruits = csv.split(\",\")  # Split using a comma as the separator\n",
    "print(fruits)"
   ]
  },
  {
   "cell_type": "code",
   "execution_count": null,
   "metadata": {
    "id": "6eamnQD7GPB4"
   },
   "outputs": [],
   "source": [
    "#  Limiting the Number of Splits\n",
    "sentence = \"Python is fun and easy\"\n",
    "result = sentence.split(\" \", 2)  # Split on space, but only perform 2 splits\n",
    "print(result)"
   ]
  },
  {
   "cell_type": "code",
   "execution_count": null,
   "metadata": {
    "id": "XG3gDIuJGshe"
   },
   "outputs": [],
   "source": [
    "data = \"25, John Doe, New York, USA\"\n",
    "age, name, city, country = data.split(\", \")  # Splitting by comma and space\n",
    "print(f\"Age: {age}, Name: {name}, City: {city}, Country: {country}\")\n"
   ]
  },
  {
   "cell_type": "code",
   "execution_count": 20,
   "metadata": {
    "colab": {
     "base_uri": "https://localhost:8080/"
    },
    "id": "d0oYVpsNG309",
    "outputId": "01ef1ee2-4bcb-4e1d-e6b2-20bc55d50b27"
   },
   "outputs": [
    {
     "name": "stdout",
     "output_type": "stream",
     "text": [
      "Cleaned Sentence: 'Python is fun!'\n"
     ]
    }
   ],
   "source": [
    "sentence = \"  Python   is    fun!   \"\n",
    "cleaned_sentence = \" \".join(sentence.split())  # Splitting and then joining to remove extra spaces\n",
    "print(f\"Cleaned Sentence: '{cleaned_sentence}'\")\n"
   ]
  },
  {
   "cell_type": "markdown",
   "metadata": {
    "id": "st1KKtk1KoPY"
   },
   "source": [
    "## Exercise 003: Split and Count Words\n",
    "\n",
    "Write a Python program that takes a sentence as input, splits it into individual words, and prints how many words the sentence contains.\n"
   ]
  },
  {
   "cell_type": "code",
   "execution_count": null,
   "metadata": {
    "colab": {
     "base_uri": "https://localhost:8080/"
    },
    "id": "Pt6e9bOXKzBR",
    "outputId": "f2eede62-e928-4104-e889-bcf87a1fccf2"
   },
   "outputs": [],
   "source": []
  },
  {
   "cell_type": "markdown",
   "metadata": {
    "id": "7bjbZ1ko44s2"
   },
   "source": [
    "## 2. Tuples\n",
    "\n",
    "### 2.1 What is a Tuple?\n",
    "\n",
    "Tuples are created by placing elements inside parentheses `()`, separated by commas.\n",
    "\n",
    "**Key Features:**\n",
    "- **Immutable**: Once a tuple is created, you can’t modify it.\n",
    "- **Ordered**: Tuples maintain the order of elements, just like lists.\n",
    "- **Can Contain Mixed Data Types**: Tuples can hold integers, strings, floats, and even other tuples!\n"
   ]
  },
  {
   "cell_type": "code",
   "execution_count": null,
   "metadata": {
    "id": "rLCTXmRoK5En"
   },
   "outputs": [],
   "source": [
    " my_tuple = (10, 20, 30, \"Python\", True)\n",
    "print(my_tuple)  # Output: (10, 20, 30, 'Python', True)\n"
   ]
  },
  {
   "cell_type": "code",
   "execution_count": 1,
   "metadata": {
    "colab": {
     "base_uri": "https://localhost:8080/"
    },
    "id": "826RrhiO5m0I",
    "outputId": "b8b5161e-0536-4773-ebe7-9174ec3d6972"
   },
   "outputs": [
    {
     "name": "stdout",
     "output_type": "stream",
     "text": [
      "(1, 2, 3)\n"
     ]
    }
   ],
   "source": [
    "another_tuple = 1, 2, 3\n",
    "print(another_tuple)  # Output: (1, 2, 3)\n"
   ]
  },
  {
   "cell_type": "code",
   "execution_count": 4,
   "metadata": {
    "colab": {
     "base_uri": "https://localhost:8080/",
     "height": 176
    },
    "id": "tKYZpNoZ6Vlw",
    "outputId": "063b216f-7df0-45b6-eb8d-997f94309fdc"
   },
   "outputs": [
    {
     "ename": "TypeError",
     "evalue": "'tuple' object does not support item assignment",
     "output_type": "error",
     "traceback": [
      "\u001b[0;31m---------------------------------------------------------------------------\u001b[0m",
      "\u001b[0;31mTypeError\u001b[0m                                 Traceback (most recent call last)",
      "\u001b[0;32m<ipython-input-4-b1d426962a04>\u001b[0m in \u001b[0;36m<cell line: 3>\u001b[0;34m()\u001b[0m\n\u001b[1;32m      1\u001b[0m \u001b[0;31m# Immutability in Action\u001b[0m\u001b[0;34m\u001b[0m\u001b[0;34m\u001b[0m\u001b[0m\n\u001b[1;32m      2\u001b[0m \u001b[0mmy_tuple\u001b[0m \u001b[0;34m=\u001b[0m \u001b[0;34m(\u001b[0m\u001b[0;36m1\u001b[0m\u001b[0;34m,\u001b[0m \u001b[0;36m2\u001b[0m\u001b[0;34m,\u001b[0m \u001b[0;36m3\u001b[0m\u001b[0;34m)\u001b[0m\u001b[0;34m\u001b[0m\u001b[0;34m\u001b[0m\u001b[0m\n\u001b[0;32m----> 3\u001b[0;31m \u001b[0mmy_tuple\u001b[0m\u001b[0;34m[\u001b[0m\u001b[0;36m0\u001b[0m\u001b[0;34m]\u001b[0m \u001b[0;34m=\u001b[0m \u001b[0;36m10\u001b[0m  \u001b[0;31m# Error! TypeError: 'tuple' object does not support item assignment\u001b[0m\u001b[0;34m\u001b[0m\u001b[0;34m\u001b[0m\u001b[0m\n\u001b[0m",
      "\u001b[0;31mTypeError\u001b[0m: 'tuple' object does not support item assignment"
     ]
    }
   ],
   "source": [
    "# Immutability in Action\n",
    "my_tuple = (1, 2, 3)\n",
    "my_tuple[0] = 10  # Error! TypeError: 'tuple' object does not support item assignment"
   ]
  },
  {
   "cell_type": "code",
   "execution_count": 2,
   "metadata": {
    "colab": {
     "base_uri": "https://localhost:8080/"
    },
    "id": "xThGUFHf58kG",
    "outputId": "aec7a163-a412-4166-dfeb-cb1adc6597f9"
   },
   "outputs": [
    {
     "name": "stdout",
     "output_type": "stream",
     "text": [
      "banana\n"
     ]
    }
   ],
   "source": [
    "# Indexing\n",
    "tuple_example = (\"apple\", \"banana\", \"cherry\", \"date\")\n",
    "print(tuple_example[1])  # Output: banana\n"
   ]
  },
  {
   "cell_type": "markdown",
   "metadata": {
    "id": "WX-whLba6Mu8"
   },
   "source": [
    "### 2.2 Tuple Methods\n",
    "\n",
    "Although tuples don’t have as many methods as lists (since they are immutable), there are a couple of useful methods:\n",
    "\n",
    "- **`count()`** – Counts how many times a value appears in the tuple.\n",
    "- **`index()`** – Returns the index of the first occurrence of a value.\n"
   ]
  },
  {
   "cell_type": "code",
   "execution_count": 3,
   "metadata": {
    "colab": {
     "base_uri": "https://localhost:8080/"
    },
    "id": "B0da6_j36EqK",
    "outputId": "4f34f20d-223f-42df-e89a-552b91f3e056"
   },
   "outputs": [
    {
     "name": "stdout",
     "output_type": "stream",
     "text": [
      "2\n",
      "0\n"
     ]
    }
   ],
   "source": [
    "fruits = (\"apple\", \"banana\", \"cherry\", \"apple\", \"date\")\n",
    "apple_count = fruits.count(\"apple\")\n",
    "print(apple_count)  # Output: 2\n",
    "\n",
    "apple_index = fruits.index(\"apple\")\n",
    "print(apple_index)  # Output: 0\n"
   ]
  },
  {
   "cell_type": "markdown",
   "metadata": {
    "id": "OFUxUBr96lEG"
   },
   "source": [
    "### 2.3 Tuple Packing and Unpacking\n"
   ]
  },
  {
   "cell_type": "code",
   "execution_count": 5,
   "metadata": {
    "colab": {
     "base_uri": "https://localhost:8080/"
    },
    "id": "qkYW15w86RwU",
    "outputId": "9b9b82ee-f95c-4e20-f9b3-964f240a5c29"
   },
   "outputs": [
    {
     "name": "stdout",
     "output_type": "stream",
     "text": [
      "('Spiderman', 'Iron Man', 'Thor')\n"
     ]
    }
   ],
   "source": [
    "hero_tuple = \"Spiderman\", \"Iron Man\", \"Thor\"  # Packing multiple values into a tuple\n",
    "print(hero_tuple)  # Output: ('Spiderman', 'Iron Man', 'Thor')\n"
   ]
  },
  {
   "cell_type": "code",
   "execution_count": 6,
   "metadata": {
    "colab": {
     "base_uri": "https://localhost:8080/"
    },
    "id": "s5zZBMbC6rAI",
    "outputId": "8d8b6e67-42e8-446f-a8be-732044dbd56f"
   },
   "outputs": [
    {
     "name": "stdout",
     "output_type": "stream",
     "text": [
      "Spiderman\n",
      "Iron Man\n",
      "Thor\n"
     ]
    }
   ],
   "source": [
    "hero1, hero2, hero3 = hero_tuple  # Unpacking tuple into variables\n",
    "print(hero1)  # Output: Spiderman\n",
    "print(hero2)  # Output: Iron Man\n",
    "print(hero3)  # Output: Thor\n"
   ]
  }
 ],
 "metadata": {
  "colab": {
   "provenance": []
  },
  "kernelspec": {
   "display_name": "Python 3 (ipykernel)",
   "language": "python",
   "name": "python3"
  },
  "language_info": {
   "codemirror_mode": {
    "name": "ipython",
    "version": 3
   },
   "file_extension": ".py",
   "mimetype": "text/x-python",
   "name": "python",
   "nbconvert_exporter": "python",
   "pygments_lexer": "ipython3",
   "version": "3.11.0"
  }
 },
 "nbformat": 4,
 "nbformat_minor": 1
}
